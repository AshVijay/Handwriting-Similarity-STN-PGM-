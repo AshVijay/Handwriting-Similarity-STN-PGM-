{
 "cells": [
  {
   "cell_type": "code",
   "execution_count": 360,
   "metadata": {},
   "outputs": [
    {
     "name": "stderr",
     "output_type": "stream",
     "text": [
      "100%|██████████████████████████████████████████████████████████████████████████████████| 50/50 [00:18<00:00,  2.68it/s]\n"
     ]
    }
   ],
   "source": [
    "test_data = pd.read_csv('test_data.csv')\n",
    "for i in tqdm(range(0, 50)):\n",
    "    q = model_infer.query(variables=['similarity'], evidence={'f1':test_data.iloc[1][\"f1\"],\n",
    " 'f2':test_data.iloc[1][\"f2\"],\n",
    " 'f3':test_data.iloc[1][\"f3\"],\n",
    " 'f4':test_data.iloc[1][\"f4\"],\n",
    " 'f5':test_data.iloc[1][\"f5\"],\n",
    " 'f6':test_data.iloc[1][\"f6\"],\n",
    " 'f7':test_data.iloc[1][\"f7\"],\n",
    " 'f8':test_data.iloc[1][\"f8\"],\n",
    " 'f9':test_data.iloc[1][\"f9\"],\n",
    " 'f10':test_data.iloc[1][\"f10\"],\n",
    " 'f11':test_data.iloc[1][\"f11\"],\n",
    " 'f12':test_data.iloc[1][\"f12\"],\n",
    " 'f13':test_data.iloc[1][\"f13\"],\n",
    " 'f14':test_data.iloc[1][\"f14\"],\n",
    " 'f15':test_data.iloc[1][\"f15\"],\n",
    " 'f16':test_data.iloc[1][\"f16\"],\n",
    " 'f17':test_data.iloc[1][\"f17\"],\n",
    " 'f18':test_data.iloc[1][\"f18\"]})"
   ]
  },
  {
   "cell_type": "code",
   "execution_count": null,
   "metadata": {
    "collapsed": true
   },
   "outputs": [],
   "source": []
  },
  {
   "cell_type": "code",
   "execution_count": null,
   "metadata": {
    "collapsed": true
   },
   "outputs": [],
   "source": []
  },
  {
   "cell_type": "code",
   "execution_count": 86,
   "metadata": {
    "collapsed": true
   },
   "outputs": [],
   "source": [
    "# from pgmpy.models import BayesianModel\n",
    "# from pgmpy.factors.discrete import TabularCPD\n",
    "# from pgmpy.estimators import BayesianEstimator\n",
    "# from pgmpy.inference import VariableElimination\n",
    "# import pandas as pd\n",
    "# df_data = pd.read_csv('G:/e-books/computer_science/AML/AND_dataset/AND_dataset/Dataset[WithFeatures]/AND_Features.csv')\n",
    "# df_data\n",
    "# ##data = pd.DataFrame(data={'A': [0, 0, 1], 'B': [0, 1, 0], 'C': [1, 1, 0]})\\n\",\n",
    "# model = BayesianModel()\n",
    "# #model.add_nodes_from(['f1', 'f2', 'f3', 'f4', 'f5', 'f6', 'f7', 'f8', 'f9'])\\n\",\n",
    "# model.add_edges_from([('f2', 'f4'), ('f2', 'f6'), ('f4', 'f7'), ('f4', 'f3'), ('f7', 'f1'), ('f3', 'f5'), ('f6', 'f8')])\n",
    "# model.fit(df_data)\n",
    "# data_pgm = model.get_cpds()\n",
    "# df1 = pd.DataFrame(data_pgm)\n",
    "# df1.to_csv('G:/e-books/computer_science/AML/AND_dataset/AND_dataset/Dataset[WithFeatures]/out1.csv')"
   ]
  },
  {
   "cell_type": "code",
   "execution_count": 259,
   "metadata": {},
   "outputs": [
    {
     "name": "stderr",
     "output_type": "stream",
     "text": [
      "100%|██████████████████████████████████████████████████████████████████████████████████| 70/70 [00:01<00:00, 62.02it/s]\n"
     ]
    }
   ],
   "source": [
    "#project code starts from here...\n",
    "from pgmpy.models import BayesianModel\n",
    "from pgmpy.factors.discrete import TabularCPD\n",
    "from pgmpy.estimators import BayesianEstimator\n",
    "from pgmpy.inference import VariableElimination\n",
    "import pandas as pd\n",
    "df_data = pd.read_csv('AND_Features.csv')\n",
    "df_data2 = df_data[['f1', 'f2', 'f3', 'f4', 'f5', 'f6', 'f7', 'f8','f9']]\n",
    "import numpy as np\n",
    "from tqdm import tqdm\n",
    "\n",
    "columns = ['f' + str(i) for i in range(1,19)] + [\"label\"]\n",
    "df2 = pd.DataFrame(columns = columns)\n",
    "\n",
    "dp=[]\n",
    "for i in tqdm(range(0,len(df_data)-956)):\n",
    "    for j in range(i+1,len(df_data)-956):\n",
    "        arr = np.hstack((df_data2.loc[i],df_data2.loc[j]))\n",
    "        a = int(df_data.iloc[i][\"ImageId\"][:-1])\n",
    "        b = int(df_data.iloc[j][\"ImageId\"][:-1])\n",
    "        if a == b:\n",
    "        #if int(df_data.iloc[i][\"ImageId\"][:-1]) == int(df_data.iloc[j][\"ImageId\"][:-1]):\n",
    "        #if (pd.DataFrame(df_data.iloc[i][\"ImageId\"][:-1])).equals(pd.DataFrame(df_data.iloc[j][\"ImageId\"][:-1])):\n",
    "            label = np.array([1])\n",
    "        else:\n",
    "            label = np.array([0])\n",
    "        arr2 = np.hstack((arr,label))\n",
    "        #temp1 = pd.DataFrame(arr2)\n",
    "        dp.append(arr2)\n",
    "        #temp1.to_csv('out11.csv')\n",
    "\n",
    "        \n",
    "        assert len(arr2) == 19\n",
    "dp = np.array(dp)\n",
    "df = pd.DataFrame(dp)\n",
    "df.columns = ['f0', 'f1', 'f2', 'f3', 'f4', 'f5', 'f6', 'f8', 'f10', 'f11', 'f12', 'f13', 'f14', 'f15', 'f16', 'f17', 'f18', 'f19', 'similarity']\n",
    "df.to_csv(\"temp.csv\",index=False)        \n",
    "        \n",
    "#print(df_data2.columns)"
   ]
  },
  {
   "cell_type": "code",
   "execution_count": 209,
   "metadata": {
    "collapsed": true
   },
   "outputs": [],
   "source": [
    "from pandas import read_csv\n",
    "\n",
    "df = read_csv('temp.csv')\n",
    "df.columns = ['f1', 'f2', 'f3', 'f4', 'f5', 'f6', 'f7', 'f8', 'f9', 'f10', 'f11', 'f12', 'f13', 'f14', 'f15', 'f16', 'f18', 'f19', 'similarity']\n",
    "df.to_csv('test_2.csv')"
   ]
  },
  {
   "cell_type": "code",
   "execution_count": 310,
   "metadata": {},
   "outputs": [
    {
     "name": "stderr",
     "output_type": "stream",
     "text": [
      "100%|██████████████████████████████████████████████████████████████████████████████████| 30/30 [00:00<00:00, 59.48it/s]\n"
     ]
    }
   ],
   "source": [
    "#creating the test_data(870 entries)\n",
    "dp2=[]\n",
    "for i in tqdm(range(70,100)):\n",
    "    for j in range(71,100):\n",
    "        arr = np.hstack((df_data2.loc[i],df_data2.loc[j]))\n",
    "        a = int(df_data.iloc[i][\"ImageId\"][:-1])\n",
    "        b = int(df_data.iloc[j][\"ImageId\"][:-1])\n",
    "        if a == b:\n",
    "        #if int(df_data.iloc[i][\"ImageId\"][:-1]) == int(df_data.iloc[j][\"ImageId\"][:-1]):\n",
    "        #if (pd.DataFrame(df_data.iloc[i][\"ImageId\"][:-1])).equals(pd.DataFrame(df_data.iloc[j][\"ImageId\"][:-1])):\n",
    "            label = np.array([1])\n",
    "        else:\n",
    "            label = np.array([0])\n",
    "        arr2 = np.hstack((arr,label))\n",
    "        #temp1 = pd.DataFrame(arr2)\n",
    "        dp2.append(arr2)\n",
    "        #temp1.to_csv('out11.csv')\n",
    "    #dp2.append()\n",
    "        \n",
    "    assert len(arr2) == 19\n",
    "dp2 = np.array(dp2)\n",
    "df2 = pd.DataFrame(dp2)\n",
    "df2.columns = ['f1', 'f2', 'f3', 'f4', 'f5', 'f6', 'f7', 'f8', 'f9','f10', 'f11', 'f12', 'f13', 'f14', 'f15', 'f16', 'f17', 'f18', 'similarity']\n",
    "df2.to_csv(\"test_data.csv\",index=False)   "
   ]
  },
  {
   "cell_type": "code",
   "execution_count": 263,
   "metadata": {},
   "outputs": [
    {
     "name": "stderr",
     "output_type": "stream",
     "text": [
      "100%|████████████████████████████████████████████████████████████████████████████████| 100/100 [00:04<00:00, 22.14it/s]\n"
     ]
    }
   ],
   "source": [
    "#creating the train_data(4900 entries)\n",
    "df_data = pd.read_csv('AND_Features.csv')\n",
    "dp1=[]\n",
    "for i in tqdm(range(0,100)):\n",
    "    for j in range(0,100):\n",
    "        arr = np.hstack((df_data2.loc[i],df_data2.loc[j]))\n",
    "        a = int(df_data.iloc[i][\"ImageId\"][:-1])\n",
    "        b = int(df_data.iloc[j][\"ImageId\"][:-1])\n",
    "        if a == b:\n",
    "        #if int(df_data.iloc[i][\"ImageId\"][:-1]) == int(df_data.iloc[j][\"ImageId\"][:-1]):\n",
    "        #if (pd.DataFrame(df_data.iloc[i][\"ImageId\"][:-1])).equals(pd.DataFrame(df_data.iloc[j][\"ImageId\"][:-1])):\n",
    "            label = np.array([1])\n",
    "        else:\n",
    "            label = np.array([0])\n",
    "        arr2 = np.hstack((arr,label))\n",
    "        #temp1 = pd.DataFrame(arr2)\n",
    "        dp1.append(arr2)\n",
    "        #temp1.to_csv('out11.csv')\n",
    "\n",
    "        \n",
    "        assert len(arr2) == 19\n",
    "dp1 = np.array(dp1)\n",
    "df1 = pd.DataFrame(dp1)\n",
    "df1.columns = ['f1', 'f2', 'f3', 'f4', 'f5', 'f6','f7', 'f8','f9', 'f10', 'f11', 'f12', 'f13', 'f14', 'f15', 'f16', 'f17', 'f18', 'similarity']\n",
    "df1.to_csv(\"train_data.csv\",index=False)   "
   ]
  },
  {
   "cell_type": "code",
   "execution_count": 374,
   "metadata": {},
   "outputs": [
    {
     "data": {
      "text/plain": [
       "[<TabularCPD representing P(f1:5 | f4:5, f7:3) at 0x1c87c473828>,\n",
       " <TabularCPD representing P(f10:5 | f13:5, f16:3) at 0x1c87c473ef0>,\n",
       " <TabularCPD representing P(f11:5 | f10:5, f15:5) at 0x1c87c5e4908>,\n",
       " <TabularCPD representing P(f12:3 | f15:5) at 0x1c87c5e47b8>,\n",
       " <TabularCPD representing P(f13:5 | f12:3, f15:5) at 0x1c87c473c18>,\n",
       " <TabularCPD representing P(f14:4 | f11:5, f17:6) at 0x1c87c5e49b0>,\n",
       " <TabularCPD representing P(f15:5) at 0x1c87c603d68>,\n",
       " <TabularCPD representing P(f16:3 | f13:5) at 0x1c87c603908>,\n",
       " <TabularCPD representing P(f17:6 | f12:3) at 0x1c87c603400>,\n",
       " <TabularCPD representing P(f18:4 | f14:4, f16:3) at 0x1c87c603278>,\n",
       " <TabularCPD representing P(f2:5 | f1:5, f6:5) at 0x1c87c5e4be0>,\n",
       " <TabularCPD representing P(f3:3 | f6:5) at 0x1c87c5e4400>,\n",
       " <TabularCPD representing P(f4:5 | f3:3, f6:5) at 0x1c87c5e4cc0>,\n",
       " <TabularCPD representing P(f5:4 | f2:5, f8:6) at 0x1c87c607198>,\n",
       " <TabularCPD representing P(f6:5) at 0x1c87c5f70b8>,\n",
       " <TabularCPD representing P(f7:3 | f4:5, f8:6) at 0x1c87c5f7208>,\n",
       " <TabularCPD representing P(f8:6 | f3:3) at 0x1c87c5f7cf8>,\n",
       " <TabularCPD representing P(f9:4 | f5:4, f7:3) at 0x1c87c5f7198>,\n",
       " <TabularCPD representing P(similarity:2 | f11:5, f2:5) at 0x1c87c5e4dd8>]"
      ]
     },
     "execution_count": 374,
     "metadata": {},
     "output_type": "execute_result"
    }
   ],
   "source": [
    "#creating a bayesian model and generating cpds on train_data set\n",
    "from pgmpy.models import BayesianModel\n",
    "from pgmpy.factors.discrete import TabularCPD\n",
    "from pgmpy.estimators import BayesianEstimator\n",
    "from pgmpy.inference import VariableElimination\n",
    "import pandas as pd\n",
    "df_data1 = pd.read_csv('C:/Users/sriva/train_data.csv')\n",
    "df2_data1 = df_data1.iloc[np.random.permutation(len(df_data1))]\n",
    "df_data1 = df2_data1\n",
    "##data = pd.DataFrame(data={'A': [0, 0, 1], 'B': [0, 1, 0], 'C': [1, 1, 0]})\\n\",\n",
    "model = BayesianModel()\n",
    "model.add_nodes_from(['f1', 'f2', 'f3', 'f4', 'f5', 'f6', 'f7', 'f8', 'f9', 'f10', 'f11', 'f12', 'f13', 'f14', 'f15', 'f16', 'f17', 'f18', 'similarity'])\n",
    "#model.add_edges_from([('f2', 'f4'), ('f2', 'f6'), ('f4', 'f7'), ('f4', 'f3'), ('f7', 'f1'), ('f3', 'f5'), ('f6', 'f8'), ('f11', 'f13'), ('f11', 'f15'), ('f13', 'f16'), ('f13', 'f12'), ('f16', 'f10'), ('f12', 'f14'), ('f15', 'f17')])\n",
    "model.add_edges_from([('f6','f2'),('f6','f3'),('f6','f4'),('f3','f4'),('f3','f8'),('f4','f7'),('f8','f7'),('f4','f1'),('f7','f1'),('f1','f2'), ('f2','f5'), ('f5', 'f9'), ('f7', 'f9'), ('f8','f5'),('f15','f11'),('f15','f12'),('f15', 'f13'), ('f12','f13'), ('f12', 'f17'), ('f13', 'f16'), ('f13', 'f10'), ('f16', 'f10'), ('f10', 'f11'), ('f11', 'f14'), ('f14', 'f18'), ('f16', 'f18'), ('f17', 'f14'), ('f2', 'similarity'), ('f11', 'similarity')])\n",
    "model.fit(df_data1)\n",
    "data_pgm_train = model.get_cpds()\n",
    "data_pgm_train"
   ]
  },
  {
   "cell_type": "code",
   "execution_count": 376,
   "metadata": {},
   "outputs": [],
   "source": [
    "#inference test\n",
    "model_infer = VariableElimination(model)\n",
    "q = model_infer.query(variables=['similarity'], evidence={'f1':2,\n",
    "                                                          'f2':1, 'f3':1,'f4':0, 'f5':1, 'f6':2,'f7':0,'f8':2,'f9':2,'f10':2,'f11':1,'f12':1,\n",
    "                                                          'f13':0, 'f14':1, 'f15':2, 'f16':2, 'f17':0, 'f18':2\n",
    "                                                         })"
   ]
  },
  {
   "cell_type": "code",
   "execution_count": 377,
   "metadata": {},
   "outputs": [
    {
     "name": "stdout",
     "output_type": "stream",
     "text": [
      "{'similarity': <DiscreteFactor representing phi(similarity:2) at 0x1c87cb3dba8>}\n",
      "+--------------+-------------------+\n",
      "| similarity   |   phi(similarity) |\n",
      "+==============+===================+\n",
      "| similarity_0 |            0.9769 |\n",
      "+--------------+-------------------+\n",
      "| similarity_1 |            0.0231 |\n",
      "+--------------+-------------------+\n"
     ]
    }
   ],
   "source": [
    "print(q)\n",
    "print(q['similarity'])"
   ]
  },
  {
   "cell_type": "code",
   "execution_count": 378,
   "metadata": {},
   "outputs": [
    {
     "name": "stderr",
     "output_type": "stream",
     "text": [
      "\r",
      "  0%|                                                                                           | 0/50 [00:00<?, ?it/s]"
     ]
    },
    {
     "name": "stdout",
     "output_type": "stream",
     "text": [
      "+--------------+-------------------+\n",
      "| similarity   |   phi(similarity) |\n",
      "+==============+===================+\n",
      "| similarity_0 |            0.9769 |\n",
      "+--------------+-------------------+\n",
      "| similarity_1 |            0.0231 |\n",
      "+--------------+-------------------+\n"
     ]
    },
    {
     "name": "stderr",
     "output_type": "stream",
     "text": [
      "\r",
      "  2%|█▋                                                                                 | 1/50 [00:00<00:08,  5.80it/s]"
     ]
    },
    {
     "name": "stdout",
     "output_type": "stream",
     "text": [
      "+--------------+-------------------+\n",
      "| similarity   |   phi(similarity) |\n",
      "+==============+===================+\n",
      "| similarity_0 |            0.9769 |\n",
      "+--------------+-------------------+\n",
      "| similarity_1 |            0.0231 |\n",
      "+--------------+-------------------+\n"
     ]
    },
    {
     "name": "stderr",
     "output_type": "stream",
     "text": [
      "\r",
      "  4%|███▎                                                                               | 2/50 [00:00<00:07,  6.39it/s]"
     ]
    },
    {
     "name": "stdout",
     "output_type": "stream",
     "text": [
      "+--------------+-------------------+\n",
      "| similarity   |   phi(similarity) |\n",
      "+==============+===================+\n",
      "| similarity_0 |            0.9769 |\n",
      "+--------------+-------------------+\n",
      "| similarity_1 |            0.0231 |\n",
      "+--------------+-------------------+\n"
     ]
    },
    {
     "name": "stderr",
     "output_type": "stream",
     "text": [
      "\r",
      "  6%|████▉                                                                              | 3/50 [00:00<00:06,  6.72it/s]"
     ]
    },
    {
     "name": "stdout",
     "output_type": "stream",
     "text": [
      "+--------------+-------------------+\n",
      "| similarity   |   phi(similarity) |\n",
      "+==============+===================+\n",
      "| similarity_0 |            0.9769 |\n",
      "+--------------+-------------------+\n",
      "| similarity_1 |            0.0231 |\n",
      "+--------------+-------------------+\n"
     ]
    },
    {
     "name": "stderr",
     "output_type": "stream",
     "text": [
      "\r",
      "  8%|██████▋                                                                            | 4/50 [00:00<00:06,  6.81it/s]"
     ]
    },
    {
     "name": "stdout",
     "output_type": "stream",
     "text": [
      "+--------------+-------------------+\n",
      "| similarity   |   phi(similarity) |\n",
      "+==============+===================+\n",
      "| similarity_0 |            0.9769 |\n",
      "+--------------+-------------------+\n",
      "| similarity_1 |            0.0231 |\n",
      "+--------------+-------------------+\n"
     ]
    },
    {
     "name": "stderr",
     "output_type": "stream",
     "text": [
      "\r",
      " 10%|████████▎                                                                          | 5/50 [00:00<00:06,  6.87it/s]"
     ]
    },
    {
     "name": "stdout",
     "output_type": "stream",
     "text": [
      "+--------------+-------------------+\n",
      "| similarity   |   phi(similarity) |\n",
      "+==============+===================+\n",
      "| similarity_0 |            0.9769 |\n",
      "+--------------+-------------------+\n",
      "| similarity_1 |            0.0231 |\n",
      "+--------------+-------------------+\n"
     ]
    },
    {
     "name": "stderr",
     "output_type": "stream",
     "text": [
      "\r",
      " 12%|█████████▉                                                                         | 6/50 [00:00<00:06,  6.88it/s]"
     ]
    },
    {
     "name": "stdout",
     "output_type": "stream",
     "text": [
      "+--------------+-------------------+\n",
      "| similarity   |   phi(similarity) |\n",
      "+==============+===================+\n",
      "| similarity_0 |            0.9769 |\n",
      "+--------------+-------------------+\n",
      "| similarity_1 |            0.0231 |\n",
      "+--------------+-------------------+\n"
     ]
    },
    {
     "name": "stderr",
     "output_type": "stream",
     "text": [
      "\r",
      " 14%|███████████▌                                                                       | 7/50 [00:01<00:06,  6.83it/s]"
     ]
    },
    {
     "name": "stdout",
     "output_type": "stream",
     "text": [
      "+--------------+-------------------+\n",
      "| similarity   |   phi(similarity) |\n",
      "+==============+===================+\n",
      "| similarity_0 |            0.9769 |\n",
      "+--------------+-------------------+\n",
      "| similarity_1 |            0.0231 |\n",
      "+--------------+-------------------+\n"
     ]
    },
    {
     "name": "stderr",
     "output_type": "stream",
     "text": [
      "\r",
      " 16%|█████████████▎                                                                     | 8/50 [00:01<00:06,  6.79it/s]"
     ]
    },
    {
     "name": "stdout",
     "output_type": "stream",
     "text": [
      "+--------------+-------------------+\n",
      "| similarity   |   phi(similarity) |\n",
      "+==============+===================+\n",
      "| similarity_0 |            0.9769 |\n",
      "+--------------+-------------------+\n",
      "| similarity_1 |            0.0231 |\n",
      "+--------------+-------------------+\n"
     ]
    },
    {
     "name": "stderr",
     "output_type": "stream",
     "text": [
      "\r",
      " 18%|██████████████▉                                                                    | 9/50 [00:01<00:06,  6.69it/s]"
     ]
    },
    {
     "name": "stdout",
     "output_type": "stream",
     "text": [
      "+--------------+-------------------+\n",
      "| similarity   |   phi(similarity) |\n",
      "+==============+===================+\n",
      "| similarity_0 |            0.9769 |\n",
      "+--------------+-------------------+\n",
      "| similarity_1 |            0.0231 |\n",
      "+--------------+-------------------+\n"
     ]
    },
    {
     "name": "stderr",
     "output_type": "stream",
     "text": [
      "\r",
      " 20%|████████████████▍                                                                 | 10/50 [00:01<00:06,  6.64it/s]"
     ]
    },
    {
     "name": "stdout",
     "output_type": "stream",
     "text": [
      "+--------------+-------------------+\n",
      "| similarity   |   phi(similarity) |\n",
      "+==============+===================+\n",
      "| similarity_0 |            0.9769 |\n",
      "+--------------+-------------------+\n",
      "| similarity_1 |            0.0231 |\n",
      "+--------------+-------------------+\n"
     ]
    },
    {
     "name": "stderr",
     "output_type": "stream",
     "text": [
      "\r",
      " 22%|██████████████████                                                                | 11/50 [00:01<00:05,  6.56it/s]"
     ]
    },
    {
     "name": "stdout",
     "output_type": "stream",
     "text": [
      "+--------------+-------------------+\n",
      "| similarity   |   phi(similarity) |\n",
      "+==============+===================+\n",
      "| similarity_0 |            0.5000 |\n",
      "+--------------+-------------------+\n",
      "| similarity_1 |            0.5000 |\n",
      "+--------------+-------------------+\n"
     ]
    },
    {
     "name": "stderr",
     "output_type": "stream",
     "text": [
      "\r",
      " 24%|███████████████████▋                                                              | 12/50 [00:01<00:05,  6.57it/s]"
     ]
    },
    {
     "name": "stdout",
     "output_type": "stream",
     "text": [
      "+--------------+-------------------+\n",
      "| similarity   |   phi(similarity) |\n",
      "+==============+===================+\n",
      "| similarity_0 |            0.9769 |\n",
      "+--------------+-------------------+\n",
      "| similarity_1 |            0.0231 |\n",
      "+--------------+-------------------+\n"
     ]
    },
    {
     "name": "stderr",
     "output_type": "stream",
     "text": [
      "\r",
      " 26%|█████████████████████▎                                                            | 13/50 [00:01<00:05,  6.64it/s]"
     ]
    },
    {
     "name": "stdout",
     "output_type": "stream",
     "text": [
      "+--------------+-------------------+\n",
      "| similarity   |   phi(similarity) |\n",
      "+==============+===================+\n",
      "| similarity_0 |            0.9769 |\n",
      "+--------------+-------------------+\n",
      "| similarity_1 |            0.0231 |\n",
      "+--------------+-------------------+\n"
     ]
    },
    {
     "name": "stderr",
     "output_type": "stream",
     "text": [
      "\r",
      " 28%|██████████████████████▉                                                           | 14/50 [00:02<00:05,  6.57it/s]"
     ]
    },
    {
     "name": "stdout",
     "output_type": "stream",
     "text": [
      "+--------------+-------------------+\n",
      "| similarity   |   phi(similarity) |\n",
      "+==============+===================+\n",
      "| similarity_0 |            0.9769 |\n",
      "+--------------+-------------------+\n",
      "| similarity_1 |            0.0231 |\n",
      "+--------------+-------------------+\n"
     ]
    },
    {
     "name": "stderr",
     "output_type": "stream",
     "text": [
      "\r",
      " 30%|████████████████████████▌                                                         | 15/50 [00:02<00:05,  6.60it/s]"
     ]
    },
    {
     "name": "stdout",
     "output_type": "stream",
     "text": [
      "+--------------+-------------------+\n",
      "| similarity   |   phi(similarity) |\n",
      "+==============+===================+\n",
      "| similarity_0 |            0.9769 |\n",
      "+--------------+-------------------+\n",
      "| similarity_1 |            0.0231 |\n",
      "+--------------+-------------------+\n"
     ]
    },
    {
     "name": "stderr",
     "output_type": "stream",
     "text": [
      "\r",
      " 32%|██████████████████████████▏                                                       | 16/50 [00:02<00:05,  6.60it/s]"
     ]
    },
    {
     "name": "stdout",
     "output_type": "stream",
     "text": [
      "+--------------+-------------------+\n",
      "| similarity   |   phi(similarity) |\n",
      "+==============+===================+\n",
      "| similarity_0 |            0.9769 |\n",
      "+--------------+-------------------+\n",
      "| similarity_1 |            0.0231 |\n",
      "+--------------+-------------------+\n"
     ]
    },
    {
     "name": "stderr",
     "output_type": "stream",
     "text": [
      "\r",
      " 34%|███████████████████████████▉                                                      | 17/50 [00:02<00:05,  6.54it/s]"
     ]
    },
    {
     "name": "stdout",
     "output_type": "stream",
     "text": [
      "+--------------+-------------------+\n",
      "| similarity   |   phi(similarity) |\n",
      "+==============+===================+\n",
      "| similarity_0 |            0.9769 |\n",
      "+--------------+-------------------+\n",
      "| similarity_1 |            0.0231 |\n",
      "+--------------+-------------------+\n"
     ]
    },
    {
     "name": "stderr",
     "output_type": "stream",
     "text": [
      "\r",
      " 36%|█████████████████████████████▌                                                    | 18/50 [00:02<00:04,  6.55it/s]"
     ]
    },
    {
     "name": "stdout",
     "output_type": "stream",
     "text": [
      "+--------------+-------------------+\n",
      "| similarity   |   phi(similarity) |\n",
      "+==============+===================+\n",
      "| similarity_0 |            1.0000 |\n",
      "+--------------+-------------------+\n",
      "| similarity_1 |            0.0000 |\n",
      "+--------------+-------------------+\n"
     ]
    },
    {
     "name": "stderr",
     "output_type": "stream",
     "text": [
      "\r",
      " 38%|███████████████████████████████▏                                                  | 19/50 [00:02<00:04,  6.54it/s]"
     ]
    },
    {
     "name": "stdout",
     "output_type": "stream",
     "text": [
      "+--------------+-------------------+\n",
      "| similarity   |   phi(similarity) |\n",
      "+==============+===================+\n",
      "| similarity_0 |            0.9769 |\n",
      "+--------------+-------------------+\n",
      "| similarity_1 |            0.0231 |\n",
      "+--------------+-------------------+\n"
     ]
    },
    {
     "name": "stderr",
     "output_type": "stream",
     "text": [
      "\r",
      " 40%|████████████████████████████████▊                                                 | 20/50 [00:03<00:04,  6.57it/s]"
     ]
    },
    {
     "name": "stdout",
     "output_type": "stream",
     "text": [
      "+--------------+-------------------+\n",
      "| similarity   |   phi(similarity) |\n",
      "+==============+===================+\n",
      "| similarity_0 |            0.9769 |\n",
      "+--------------+-------------------+\n",
      "| similarity_1 |            0.0231 |\n",
      "+--------------+-------------------+\n"
     ]
    },
    {
     "name": "stderr",
     "output_type": "stream",
     "text": [
      "\r",
      " 42%|██████████████████████████████████▍                                               | 21/50 [00:03<00:04,  6.57it/s]"
     ]
    },
    {
     "name": "stdout",
     "output_type": "stream",
     "text": [
      "+--------------+-------------------+\n",
      "| similarity   |   phi(similarity) |\n",
      "+==============+===================+\n",
      "| similarity_0 |            0.9769 |\n",
      "+--------------+-------------------+\n",
      "| similarity_1 |            0.0231 |\n",
      "+--------------+-------------------+\n"
     ]
    },
    {
     "name": "stderr",
     "output_type": "stream",
     "text": [
      "\r",
      " 44%|████████████████████████████████████                                              | 22/50 [00:03<00:04,  6.46it/s]"
     ]
    },
    {
     "name": "stdout",
     "output_type": "stream",
     "text": [
      "+--------------+-------------------+\n",
      "| similarity   |   phi(similarity) |\n",
      "+==============+===================+\n",
      "| similarity_0 |            0.9769 |\n",
      "+--------------+-------------------+\n",
      "| similarity_1 |            0.0231 |\n",
      "+--------------+-------------------+\n"
     ]
    },
    {
     "name": "stderr",
     "output_type": "stream",
     "text": [
      "\r",
      " 46%|█████████████████████████████████████▋                                            | 23/50 [00:03<00:04,  6.48it/s]"
     ]
    },
    {
     "name": "stdout",
     "output_type": "stream",
     "text": [
      "+--------------+-------------------+\n",
      "| similarity   |   phi(similarity) |\n",
      "+==============+===================+\n",
      "| similarity_0 |            0.9947 |\n",
      "+--------------+-------------------+\n",
      "| similarity_1 |            0.0053 |\n",
      "+--------------+-------------------+\n"
     ]
    },
    {
     "name": "stderr",
     "output_type": "stream",
     "text": [
      "\r",
      " 48%|███████████████████████████████████████▎                                          | 24/50 [00:03<00:04,  6.47it/s]"
     ]
    },
    {
     "name": "stdout",
     "output_type": "stream",
     "text": [
      "+--------------+-------------------+\n",
      "| similarity   |   phi(similarity) |\n",
      "+==============+===================+\n",
      "| similarity_0 |            0.9769 |\n",
      "+--------------+-------------------+\n",
      "| similarity_1 |            0.0231 |\n",
      "+--------------+-------------------+\n"
     ]
    },
    {
     "name": "stderr",
     "output_type": "stream",
     "text": [
      "\r",
      " 50%|█████████████████████████████████████████                                         | 25/50 [00:03<00:03,  6.44it/s]"
     ]
    },
    {
     "name": "stdout",
     "output_type": "stream",
     "text": [
      "+--------------+-------------------+\n",
      "| similarity   |   phi(similarity) |\n",
      "+==============+===================+\n",
      "| similarity_0 |            0.9769 |\n",
      "+--------------+-------------------+\n",
      "| similarity_1 |            0.0231 |\n",
      "+--------------+-------------------+\n"
     ]
    },
    {
     "name": "stderr",
     "output_type": "stream",
     "text": [
      "\r",
      " 52%|██████████████████████████████████████████▋                                       | 26/50 [00:04<00:03,  6.45it/s]"
     ]
    },
    {
     "name": "stdout",
     "output_type": "stream",
     "text": [
      "+--------------+-------------------+\n",
      "| similarity   |   phi(similarity) |\n",
      "+==============+===================+\n",
      "| similarity_0 |            0.5000 |\n",
      "+--------------+-------------------+\n",
      "| similarity_1 |            0.5000 |\n",
      "+--------------+-------------------+\n"
     ]
    },
    {
     "name": "stderr",
     "output_type": "stream",
     "text": [
      "\r",
      " 54%|████████████████████████████████████████████▎                                     | 27/50 [00:04<00:03,  6.37it/s]"
     ]
    },
    {
     "name": "stdout",
     "output_type": "stream",
     "text": [
      "+--------------+-------------------+\n",
      "| similarity   |   phi(similarity) |\n",
      "+==============+===================+\n",
      "| similarity_0 |            0.9769 |\n",
      "+--------------+-------------------+\n",
      "| similarity_1 |            0.0231 |\n",
      "+--------------+-------------------+\n"
     ]
    },
    {
     "name": "stderr",
     "output_type": "stream",
     "text": [
      "\r",
      " 56%|█████████████████████████████████████████████▉                                    | 28/50 [00:04<00:03,  6.35it/s]"
     ]
    },
    {
     "name": "stdout",
     "output_type": "stream",
     "text": [
      "+--------------+-------------------+\n",
      "| similarity   |   phi(similarity) |\n",
      "+==============+===================+\n",
      "| similarity_0 |            0.9769 |\n",
      "+--------------+-------------------+\n",
      "| similarity_1 |            0.0231 |\n",
      "+--------------+-------------------+\n"
     ]
    },
    {
     "name": "stderr",
     "output_type": "stream",
     "text": [
      "\r",
      " 58%|███████████████████████████████████████████████▌                                  | 29/50 [00:04<00:03,  6.38it/s]"
     ]
    },
    {
     "name": "stdout",
     "output_type": "stream",
     "text": [
      "+--------------+-------------------+\n",
      "| similarity   |   phi(similarity) |\n",
      "+==============+===================+\n",
      "| similarity_0 |            0.9769 |\n",
      "+--------------+-------------------+\n",
      "| similarity_1 |            0.0231 |\n",
      "+--------------+-------------------+\n"
     ]
    },
    {
     "name": "stderr",
     "output_type": "stream",
     "text": [
      "\r",
      " 60%|█████████████████████████████████████████████████▏                                | 30/50 [00:04<00:03,  6.41it/s]"
     ]
    },
    {
     "name": "stdout",
     "output_type": "stream",
     "text": [
      "+--------------+-------------------+\n",
      "| similarity   |   phi(similarity) |\n",
      "+==============+===================+\n",
      "| similarity_0 |            0.9769 |\n",
      "+--------------+-------------------+\n",
      "| similarity_1 |            0.0231 |\n",
      "+--------------+-------------------+\n"
     ]
    },
    {
     "name": "stderr",
     "output_type": "stream",
     "text": [
      "\r",
      " 62%|██████████████████████████████████████████████████▊                               | 31/50 [00:04<00:02,  6.44it/s]"
     ]
    },
    {
     "name": "stdout",
     "output_type": "stream",
     "text": [
      "+--------------+-------------------+\n",
      "| similarity   |   phi(similarity) |\n",
      "+==============+===================+\n",
      "| similarity_0 |            0.9769 |\n",
      "+--------------+-------------------+\n",
      "| similarity_1 |            0.0231 |\n",
      "+--------------+-------------------+\n"
     ]
    },
    {
     "name": "stderr",
     "output_type": "stream",
     "text": [
      "\r",
      " 64%|████████████████████████████████████████████████████▍                             | 32/50 [00:05<00:02,  6.40it/s]"
     ]
    },
    {
     "name": "stdout",
     "output_type": "stream",
     "text": [
      "+--------------+-------------------+\n",
      "| similarity   |   phi(similarity) |\n",
      "+==============+===================+\n",
      "| similarity_0 |            0.9769 |\n",
      "+--------------+-------------------+\n",
      "| similarity_1 |            0.0231 |\n",
      "+--------------+-------------------+\n"
     ]
    },
    {
     "name": "stderr",
     "output_type": "stream",
     "text": [
      "\r",
      " 66%|██████████████████████████████████████████████████████                            | 33/50 [00:05<00:02,  6.41it/s]"
     ]
    },
    {
     "name": "stdout",
     "output_type": "stream",
     "text": [
      "+--------------+-------------------+\n",
      "| similarity   |   phi(similarity) |\n",
      "+==============+===================+\n",
      "| similarity_0 |            0.9769 |\n",
      "+--------------+-------------------+\n",
      "| similarity_1 |            0.0231 |\n",
      "+--------------+-------------------+\n"
     ]
    },
    {
     "name": "stderr",
     "output_type": "stream",
     "text": [
      "\r",
      " 68%|███████████████████████████████████████████████████████▊                          | 34/50 [00:05<00:02,  6.39it/s]"
     ]
    },
    {
     "name": "stdout",
     "output_type": "stream",
     "text": [
      "+--------------+-------------------+\n",
      "| similarity   |   phi(similarity) |\n",
      "+==============+===================+\n",
      "| similarity_0 |            0.9769 |\n",
      "+--------------+-------------------+\n",
      "| similarity_1 |            0.0231 |\n",
      "+--------------+-------------------+\n"
     ]
    },
    {
     "name": "stderr",
     "output_type": "stream",
     "text": [
      "\r",
      " 70%|█████████████████████████████████████████████████████████▍                        | 35/50 [00:05<00:02,  6.32it/s]"
     ]
    },
    {
     "name": "stdout",
     "output_type": "stream",
     "text": [
      "+--------------+-------------------+\n",
      "| similarity   |   phi(similarity) |\n",
      "+==============+===================+\n",
      "| similarity_0 |            0.9769 |\n",
      "+--------------+-------------------+\n",
      "| similarity_1 |            0.0231 |\n",
      "+--------------+-------------------+\n"
     ]
    },
    {
     "name": "stderr",
     "output_type": "stream",
     "text": [
      "\r",
      " 72%|███████████████████████████████████████████████████████████                       | 36/50 [00:05<00:02,  6.32it/s]"
     ]
    },
    {
     "name": "stdout",
     "output_type": "stream",
     "text": [
      "+--------------+-------------------+\n",
      "| similarity   |   phi(similarity) |\n",
      "+==============+===================+\n",
      "| similarity_0 |            0.9769 |\n",
      "+--------------+-------------------+\n",
      "| similarity_1 |            0.0231 |\n",
      "+--------------+-------------------+\n"
     ]
    },
    {
     "name": "stderr",
     "output_type": "stream",
     "text": [
      "\r",
      " 74%|████████████████████████████████████████████████████████████▋                     | 37/50 [00:05<00:02,  6.33it/s]"
     ]
    },
    {
     "name": "stdout",
     "output_type": "stream",
     "text": [
      "+--------------+-------------------+\n",
      "| similarity   |   phi(similarity) |\n",
      "+==============+===================+\n",
      "| similarity_0 |            0.9769 |\n",
      "+--------------+-------------------+\n",
      "| similarity_1 |            0.0231 |\n",
      "+--------------+-------------------+\n"
     ]
    },
    {
     "name": "stderr",
     "output_type": "stream",
     "text": [
      "\r",
      " 76%|██████████████████████████████████████████████████████████████▎                   | 38/50 [00:06<00:01,  6.33it/s]"
     ]
    },
    {
     "name": "stdout",
     "output_type": "stream",
     "text": [
      "+--------------+-------------------+\n",
      "| similarity   |   phi(similarity) |\n",
      "+==============+===================+\n",
      "| similarity_0 |            0.9769 |\n",
      "+--------------+-------------------+\n",
      "| similarity_1 |            0.0231 |\n",
      "+--------------+-------------------+\n"
     ]
    },
    {
     "name": "stderr",
     "output_type": "stream",
     "text": [
      "\r",
      " 78%|███████████████████████████████████████████████████████████████▉                  | 39/50 [00:06<00:01,  6.32it/s]"
     ]
    },
    {
     "name": "stdout",
     "output_type": "stream",
     "text": [
      "+--------------+-------------------+\n",
      "| similarity   |   phi(similarity) |\n",
      "+==============+===================+\n",
      "| similarity_0 |            0.9769 |\n",
      "+--------------+-------------------+\n",
      "| similarity_1 |            0.0231 |\n",
      "+--------------+-------------------+\n"
     ]
    },
    {
     "name": "stderr",
     "output_type": "stream",
     "text": [
      "\r",
      " 80%|█████████████████████████████████████████████████████████████████▌                | 40/50 [00:06<00:01,  6.30it/s]"
     ]
    },
    {
     "name": "stdout",
     "output_type": "stream",
     "text": [
      "+--------------+-------------------+\n",
      "| similarity   |   phi(similarity) |\n",
      "+==============+===================+\n",
      "| similarity_0 |            0.5000 |\n",
      "+--------------+-------------------+\n",
      "| similarity_1 |            0.5000 |\n",
      "+--------------+-------------------+\n"
     ]
    },
    {
     "name": "stderr",
     "output_type": "stream",
     "text": [
      "\r",
      " 82%|███████████████████████████████████████████████████████████████████▏              | 41/50 [00:06<00:01,  6.26it/s]"
     ]
    },
    {
     "name": "stdout",
     "output_type": "stream",
     "text": [
      "+--------------+-------------------+\n",
      "| similarity   |   phi(similarity) |\n",
      "+==============+===================+\n",
      "| similarity_0 |            0.9769 |\n",
      "+--------------+-------------------+\n",
      "| similarity_1 |            0.0231 |\n",
      "+--------------+-------------------+\n"
     ]
    },
    {
     "name": "stderr",
     "output_type": "stream",
     "text": [
      "\r",
      " 84%|████████████████████████████████████████████████████████████████████▉             | 42/50 [00:06<00:01,  6.25it/s]"
     ]
    },
    {
     "name": "stdout",
     "output_type": "stream",
     "text": [
      "+--------------+-------------------+\n",
      "| similarity   |   phi(similarity) |\n",
      "+==============+===================+\n",
      "| similarity_0 |            0.9769 |\n",
      "+--------------+-------------------+\n",
      "| similarity_1 |            0.0231 |\n",
      "+--------------+-------------------+\n"
     ]
    },
    {
     "name": "stderr",
     "output_type": "stream",
     "text": [
      "\r",
      " 86%|██████████████████████████████████████████████████████████████████████▌           | 43/50 [00:06<00:01,  6.25it/s]"
     ]
    },
    {
     "name": "stdout",
     "output_type": "stream",
     "text": [
      "+--------------+-------------------+\n",
      "| similarity   |   phi(similarity) |\n",
      "+==============+===================+\n",
      "| similarity_0 |            0.9769 |\n",
      "+--------------+-------------------+\n",
      "| similarity_1 |            0.0231 |\n",
      "+--------------+-------------------+\n"
     ]
    },
    {
     "name": "stderr",
     "output_type": "stream",
     "text": [
      "\r",
      " 88%|████████████████████████████████████████████████████████████████████████▏         | 44/50 [00:07<00:00,  6.27it/s]"
     ]
    },
    {
     "name": "stdout",
     "output_type": "stream",
     "text": [
      "+--------------+-------------------+\n",
      "| similarity   |   phi(similarity) |\n",
      "+==============+===================+\n",
      "| similarity_0 |            0.9769 |\n",
      "+--------------+-------------------+\n",
      "| similarity_1 |            0.0231 |\n",
      "+--------------+-------------------+\n"
     ]
    },
    {
     "name": "stderr",
     "output_type": "stream",
     "text": [
      "\r",
      " 90%|█████████████████████████████████████████████████████████████████████████▊        | 45/50 [00:07<00:00,  6.26it/s]"
     ]
    },
    {
     "name": "stdout",
     "output_type": "stream",
     "text": [
      "+--------------+-------------------+\n",
      "| similarity   |   phi(similarity) |\n",
      "+==============+===================+\n",
      "| similarity_0 |            0.9769 |\n",
      "+--------------+-------------------+\n",
      "| similarity_1 |            0.0231 |\n",
      "+--------------+-------------------+\n"
     ]
    },
    {
     "name": "stderr",
     "output_type": "stream",
     "text": [
      "\r",
      " 92%|███████████████████████████████████████████████████████████████████████████▍      | 46/50 [00:07<00:00,  6.23it/s]"
     ]
    },
    {
     "name": "stdout",
     "output_type": "stream",
     "text": [
      "+--------------+-------------------+\n",
      "| similarity   |   phi(similarity) |\n",
      "+==============+===================+\n",
      "| similarity_0 |            0.9769 |\n",
      "+--------------+-------------------+\n",
      "| similarity_1 |            0.0231 |\n",
      "+--------------+-------------------+\n"
     ]
    },
    {
     "name": "stderr",
     "output_type": "stream",
     "text": [
      "\r",
      " 94%|█████████████████████████████████████████████████████████████████████████████     | 47/50 [00:07<00:00,  6.23it/s]"
     ]
    },
    {
     "name": "stdout",
     "output_type": "stream",
     "text": [
      "+--------------+-------------------+\n",
      "| similarity   |   phi(similarity) |\n",
      "+==============+===================+\n",
      "| similarity_0 |            1.0000 |\n",
      "+--------------+-------------------+\n",
      "| similarity_1 |            0.0000 |\n",
      "+--------------+-------------------+\n"
     ]
    },
    {
     "name": "stderr",
     "output_type": "stream",
     "text": [
      "\r",
      " 96%|██████████████████████████████████████████████████████████████████████████████▋   | 48/50 [00:07<00:00,  6.22it/s]"
     ]
    },
    {
     "name": "stdout",
     "output_type": "stream",
     "text": [
      "+--------------+-------------------+\n",
      "| similarity   |   phi(similarity) |\n",
      "+==============+===================+\n",
      "| similarity_0 |            0.9769 |\n",
      "+--------------+-------------------+\n",
      "| similarity_1 |            0.0231 |\n",
      "+--------------+-------------------+\n"
     ]
    },
    {
     "name": "stderr",
     "output_type": "stream",
     "text": [
      "\r",
      " 98%|████████████████████████████████████████████████████████████████████████████████▎ | 49/50 [00:07<00:00,  6.19it/s]"
     ]
    },
    {
     "name": "stdout",
     "output_type": "stream",
     "text": [
      "+--------------+-------------------+\n",
      "| similarity   |   phi(similarity) |\n",
      "+==============+===================+\n",
      "| similarity_0 |            0.9769 |\n",
      "+--------------+-------------------+\n",
      "| similarity_1 |            0.0231 |\n",
      "+--------------+-------------------+\n"
     ]
    },
    {
     "name": "stderr",
     "output_type": "stream",
     "text": [
      "100%|██████████████████████████████████████████████████████████████████████████████████| 50/50 [00:08<00:00,  6.20it/s]\n"
     ]
    }
   ],
   "source": [
    "#inference on the test_set\n",
    "test_data = pd.read_csv('test_data.csv')\n",
    "for i in tqdm(range(0, 50)):\n",
    "    q = model_infer.query(variables=['similarity'], evidence={'f1':test_data.iloc[i][\"f1\"],\n",
    " 'f2':test_data.iloc[i][\"f2\"],\n",
    " 'f3':test_data.iloc[i][\"f3\"],\n",
    " 'f4':test_data.iloc[i][\"f4\"],\n",
    " 'f5':test_data.iloc[i][\"f5\"],\n",
    " 'f6':test_data.iloc[i][\"f6\"],\n",
    " 'f7':test_data.iloc[i][\"f7\"],\n",
    " 'f8':test_data.iloc[i][\"f8\"],\n",
    " 'f9':test_data.iloc[i][\"f9\"],'f10':test_data.iloc[i][\"f10\"],\n",
    " 'f11':test_data.iloc[i][\"f11\"],\n",
    " 'f12':test_data.iloc[i][\"f12\"],\n",
    " 'f13':test_data.iloc[i][\"f13\"],\n",
    " 'f14':test_data.iloc[i][\"f14\"],\n",
    " 'f15':test_data.iloc[i][\"f15\"],\n",
    " 'f16':test_data.iloc[i][\"f16\"],\n",
    " 'f17':test_data.iloc[i][\"f17\"],\n",
    " 'f18':test_data.iloc[i][\"f18\"]})\n",
    "    print(q['similarity'])"
   ]
  },
  {
   "cell_type": "code",
   "execution_count": 458,
   "metadata": {},
   "outputs": [
    {
     "name": "stderr",
     "output_type": "stream",
     "text": [
      "100%|████████████████████████████████████████████████████████████████████████████████| 200/200 [01:20<00:00,  2.49it/s]\n"
     ]
    }
   ],
   "source": [
    "dictlist=[]\n",
    "\n",
    "test_data = pd.read_csv('test_data.csv')\n",
    "df_data2 = test_data\n",
    "df2_data2 = df_data2.iloc[np.random.permutation(len(df_data2))]\n",
    "df_data2 = df2_data2\n",
    "test_data = df_data2\n",
    "\n",
    "for i in tqdm(range(0, 200)):\n",
    "    phi_query = model_infer.map_query(variables=['f10', 'f11', 'f12', 'f13', 'f14', 'f15', 'f16','f17', 'f18'],evidence={'f1':test_data.iloc[i][\"f1\"],\n",
    " 'f2':test_data.iloc[i][\"f2\"],\n",
    " 'f3':test_data.iloc[i][\"f3\"],\n",
    " 'f4':test_data.iloc[i][\"f4\"],\n",
    " 'f5':test_data.iloc[i][\"f5\"],\n",
    " 'f6':test_data.iloc[i][\"f6\"],\n",
    " 'f7':test_data.iloc[i][\"f7\"],\n",
    " 'f8':test_data.iloc[i][\"f8\"],\n",
    " 'f9':test_data.iloc[i][\"f9\"],\n",
    " 'similarity':1})\n",
    "    phi_query\n",
    "    temp=[]\n",
    "    for key, value in phi_query.items():\n",
    "       temp.append(value)\n",
    "    dictlist.append(temp)"
   ]
  },
  {
   "cell_type": "raw",
   "metadata": {},
   "source": [
    "dictlist=[]\n",
    "\n",
    "test_data = pd.read_csv('test_data.csv')\n",
    "df_data2 = test_data\n",
    "df2_data2 = df_data2.iloc[np.random.permutation(len(df_data2))]\n",
    "df_data2 = df2_data2\n",
    "test_data = df_data2\n",
    "\n",
    "for i in tqdm(range(0, 200)):\n",
    "    phi_query = model_infer.map_query(variables=['f10', 'f11', 'f12', 'f13', 'f14', 'f15', 'f16','f17', 'f18'],evidence={'f1':test_data.iloc[i][\"f1\"],\n",
    " 'f2':test_data.iloc[i][\"f2\"],\n",
    " 'f3':test_data.iloc[i][\"f3\"],\n",
    " 'f4':test_data.iloc[i][\"f4\"],\n",
    " 'f5':test_data.iloc[i][\"f5\"],\n",
    " 'f6':test_data.iloc[i][\"f6\"],\n",
    " 'f7':test_data.iloc[i][\"f7\"],\n",
    " 'f8':test_data.iloc[i][\"f8\"],\n",
    " 'f9':test_data.iloc[i][\"f9\"],\n",
    " 'similarity':1})\n",
    "    phi_query\n",
    "    temp=[]\n",
    "    for key, value in phi_query.items():\n",
    "       temp.append(value)\n",
    "       dictlist.append(temp)"
   ]
  },
  {
   "cell_type": "code",
   "execution_count": 479,
   "metadata": {},
   "outputs": [
    {
     "name": "stdout",
     "output_type": "stream",
     "text": [
      "Predicted values\n",
      "     0  1  2  3  4  5  6  7  8\n",
      "0    2  0  1  0  2  2  0  2  2\n",
      "1    2  1  1  0  2  2  0  2  2\n",
      "2    2  1  1  0  2  2  0  2  2\n",
      "3    2  0  1  0  2  2  0  2  2\n",
      "4    2  1  1  0  2  2  0  2  2\n",
      "5    2  0  1  0  2  2  0  2  2\n",
      "6    2  1  1  0  2  2  0  2  2\n",
      "7    2  1  1  0  2  2  0  2  2\n",
      "8    2  1  1  0  2  2  0  2  2\n",
      "9    2  1  1  0  2  2  0  2  2\n",
      "10   2  1  1  0  2  2  0  2  2\n",
      "11   2  1  1  0  2  2  0  2  2\n",
      "12   2  1  1  0  2  2  0  2  2\n",
      "13   2  1  1  0  2  2  0  2  2\n",
      "14   2  1  1  0  2  2  0  2  2\n",
      "15   2  1  1  0  2  2  0  2  2\n",
      "16   2  1  1  0  2  2  0  2  2\n",
      "17   2  1  1  0  2  2  0  2  2\n",
      "18   2  1  1  0  2  2  0  2  2\n",
      "19   2  1  1  0  2  2  0  2  2\n",
      "20   2  1  1  0  2  2  0  2  2\n",
      "21   2  1  1  0  2  2  0  2  2\n",
      "22   2  1  1  0  2  2  0  2  2\n",
      "23   2  1  1  0  2  2  0  2  2\n",
      "24   2  1  1  0  2  2  0  2  2\n",
      "25   2  1  1  0  2  2  0  2  2\n",
      "26   2  1  1  0  2  2  0  2  2\n",
      "27   2  0  1  0  2  2  0  2  2\n",
      "28   2  2  1  0  2  2  0  2  2\n",
      "29   2  1  1  0  2  2  0  2  2\n",
      "..  .. .. .. .. .. .. .. .. ..\n",
      "170  2  1  1  0  2  2  0  2  2\n",
      "171  2  2  1  0  2  2  0  2  2\n",
      "172  2  1  1  0  2  2  0  2  2\n",
      "173  2  1  1  0  2  2  0  2  2\n",
      "174  2  1  1  0  2  2  0  2  2\n",
      "175  2  1  1  0  2  2  0  2  2\n",
      "176  2  1  1  0  2  2  0  2  2\n",
      "177  2  1  1  0  2  2  0  2  2\n",
      "178  2  1  1  0  2  2  0  2  2\n",
      "179  2  1  1  0  2  2  0  2  2\n",
      "180  2  1  1  0  2  2  0  2  2\n",
      "181  2  1  1  0  2  2  0  2  2\n",
      "182  2  1  1  0  2  2  0  2  2\n",
      "183  2  1  1  0  2  2  0  2  2\n",
      "184  2  1  1  0  2  2  0  2  2\n",
      "185  2  1  1  0  2  2  0  2  2\n",
      "186  2  0  1  0  2  2  0  2  2\n",
      "187  2  1  1  0  2  2  0  2  2\n",
      "188  2  1  1  0  2  2  0  2  2\n",
      "189  2  1  1  0  2  2  0  2  2\n",
      "190  2  1  1  0  2  2  0  2  2\n",
      "191  2  1  1  0  2  2  0  2  2\n",
      "192  2  1  1  0  2  2  0  2  2\n",
      "193  2  1  1  0  2  2  0  2  2\n",
      "194  2  0  1  0  2  2  0  2  2\n",
      "195  2  1  1  0  2  2  0  2  2\n",
      "196  2  1  1  0  2  2  0  2  2\n",
      "197  2  1  1  0  2  2  0  2  2\n",
      "198  2  1  1  0  2  2  0  2  2\n",
      "199  2  1  1  0  2  2  0  2  2\n",
      "\n",
      "[200 rows x 9 columns]\n"
     ]
    }
   ],
   "source": [
    "#phi_query\n",
    "dictlist\n",
    "from numpy import array\n",
    "import pandas as pd\n",
    "\n",
    "\n",
    "dict_list = array(dictlist)\n",
    "dict_list\n",
    "data_frame_final = pd.DataFrame(dict_list)\n",
    "print(\"Predicted values\")\n",
    "print(data_frame_final)\n",
    "test_data[['f10','f11','f12','f13','f14','f15','f16','f17','f18','similarity']]\n",
    "final_data = test_data.loc[test_data['similarity']==1]\n",
    "final_data = final_data [['f10','f11','f12','f13','f14','f15','f16','f17','f18']]\n",
    "original_final = final_data"
   ]
  },
  {
   "cell_type": "code",
   "execution_count": 486,
   "metadata": {},
   "outputs": [
    {
     "name": "stdout",
     "output_type": "stream",
     "text": [
      "[False False  True False  True  True  True False  True]\n",
      "[False  True  True False  True  True  True False  True]\n",
      "[ True  True  True False  True False  True False  True]\n",
      "[False False  True False  True  True  True False  True]\n",
      "[ True  True  True False  True  True False False  True]\n",
      "[ True  True  True  True  True  True  True False  True]\n",
      "[False  True  True  True  True  True  True False  True]\n",
      "[False  True  True False  True  True False  True  True]\n",
      "[False  True  True False  True  True False False  True]\n",
      "[False  True  True False  True  True False False  True]\n",
      "[ True False  True  True  True  True  True  True  True]\n",
      "[False  True  True False  True  True  True False  True]\n",
      "[ True  True  True False  True False  True False  True]\n",
      "[False  True  True False  True  True  True False  True]\n",
      "[ True  True  True  True  True False  True False  True]\n",
      "[ True False  True False  True  True  True  True  True]\n",
      "[ True  True  True False  True False  True  True  True]\n",
      "[ True  True  True  True  True False  True False  True]\n",
      "[ True False  True  True  True  True  True False  True]\n",
      "[False  True  True  True  True False  True False  True]\n",
      "[ True  True  True  True  True False  True False  True]\n",
      "[ True  True  True False  True  True False False  True]\n",
      "[ True  True  True  True  True False  True  True  True]\n",
      "[False  True  True False  True False  True  True  True]\n",
      "[ True  True  True False  True False  True False  True]\n",
      "[ True  True  True False  True False  True False  True]\n",
      "[ True  True  True  True  True False  True False  True]\n",
      "[False False  True False  True  True  True False  True]\n",
      "[False False  True False  True  True  True False  True]\n",
      "[False  True  True False  True  True  True False  True]\n",
      "[ True  True  True  True  True False  True False  True]\n",
      "[False  True  True  True  True False  True False  True]\n",
      "[False  True  True False  True  True  True False  True]\n",
      "[ True  True  True False  True False  True False  True]\n",
      "[ True  True  True False  True  True False False  True]\n",
      "[ True  True  True  True  True False  True  True  True]\n",
      "[ True  True  True False  True  True False False  True]\n",
      "[False  True  True False  True  True  True False  True]\n",
      "[False  True  True False  True  True  True False  True]\n",
      "[False  True  True False  True  True False  True  True]\n",
      "[ True False  True False  True  True  True  True  True]\n",
      "[False  True  True False  True  True  True False  True]\n",
      "[ True  True  True False  True  True False False  True]\n",
      "[False  True  True False  True  True False False  True]\n",
      "[False  True  True False  True  True False False  True]\n",
      "[ True  True  True False  True  True False False  True]\n",
      "[False  True  True  True  True  True  True False  True]\n",
      "[False  True  True False  True  True False  True  True]\n",
      "[ True  True  True False  True  True False False  True]\n",
      "[ True  True  True False  True  True False False  True]\n",
      "Accuracy is 0.0 %\n"
     ]
    }
   ],
   "source": [
    "##Accuracuy calculation based on Maximum Aposteriory Probability\n",
    "matched_rows = 0\n",
    "for i in range(0,50) :\n",
    "   \n",
    "    TrueList = np.equal(np.array(original_final.iloc[[i]]) , np.array(data_frame_final.iloc[[i]]))\n",
    "    print(TrueList[0])\n",
    "   \n",
    "    for count in TrueList[0] :  \n",
    "            number_of_trues =0\n",
    "            if (count): \n",
    "                number_of_trues = number_of_trues + 1\n",
    "    if number_of_trues > 4 :\n",
    "                matched_rows = matched_rows + 1\n",
    "\n",
    "print(\"Accuracy is\" , matched_rows*100/200, \"%\") #Test data has 870 points"
   ]
  },
  {
   "cell_type": "code",
   "execution_count": null,
   "metadata": {
    "collapsed": true
   },
   "outputs": [],
   "source": []
  }
 ],
 "metadata": {
  "kernelspec": {
   "display_name": "Python 3",
   "language": "python",
   "name": "python3"
  },
  "language_info": {
   "codemirror_mode": {
    "name": "ipython",
    "version": 3
   },
   "file_extension": ".py",
   "mimetype": "text/x-python",
   "name": "python",
   "nbconvert_exporter": "python",
   "pygments_lexer": "ipython3",
   "version": "3.6.3"
  }
 },
 "nbformat": 4,
 "nbformat_minor": 2
}
