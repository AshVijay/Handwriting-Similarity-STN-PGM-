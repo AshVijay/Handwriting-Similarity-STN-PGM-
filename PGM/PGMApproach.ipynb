{
 "cells": [
  {
   "cell_type": "code",
   "execution_count": 360,
   "metadata": {},
   "outputs": [
    {
     "name": "stderr",
     "output_type": "stream",
     "text": [
      "100%|██████████████████████████████████████████████████████████████████████████████████| 50/50 [00:18<00:00,  2.68it/s]\n"
     ]
    }
   ],
   "source": [
    "test_data = pd.read_csv('test_data.csv')\n",
    "for i in tqdm(range(0, 50)):\n",
    "    q = model_infer.query(variables=['similarity'], evidence={'f1':test_data.iloc[1][\"f1\"],\n",
    " 'f2':test_data.iloc[1][\"f2\"],\n",
    " 'f3':test_data.iloc[1][\"f3\"],\n",
    " 'f4':test_data.iloc[1][\"f4\"],\n",
    " 'f5':test_data.iloc[1][\"f5\"],\n",
    " 'f6':test_data.iloc[1][\"f6\"],\n",
    " 'f7':test_data.iloc[1][\"f7\"],\n",
    " 'f8':test_data.iloc[1][\"f8\"],\n",
    " 'f9':test_data.iloc[1][\"f9\"],\n",
    " 'f10':test_data.iloc[1][\"f10\"],\n",
    " 'f11':test_data.iloc[1][\"f11\"],\n",
    " 'f12':test_data.iloc[1][\"f12\"],\n",
    " 'f13':test_data.iloc[1][\"f13\"],\n",
    " 'f14':test_data.iloc[1][\"f14\"],\n",
    " 'f15':test_data.iloc[1][\"f15\"],\n",
    " 'f16':test_data.iloc[1][\"f16\"],\n",
    " 'f17':test_data.iloc[1][\"f17\"],\n",
    " 'f18':test_data.iloc[1][\"f18\"]})"
   ]
  },
  {
   "cell_type": "code",
   "execution_count": null,
   "metadata": {
    "collapsed": true
   },
   "outputs": [],
   "source": []
  },
  {
   "cell_type": "code",
   "execution_count": null,
   "metadata": {
    "collapsed": true
   },
   "outputs": [],
   "source": []
  },
  {
   "cell_type": "code",
   "execution_count": 86,
   "metadata": {
    "collapsed": true
   },
   "outputs": [],
   "source": [
    "# from pgmpy.models import BayesianModel\n",
    "# from pgmpy.factors.discrete import TabularCPD\n",
    "# from pgmpy.estimators import BayesianEstimator\n",
    "# from pgmpy.inference import VariableElimination\n",
    "# import pandas as pd\n",
    "# df_data = pd.read_csv('G:/e-books/computer_science/AML/AND_dataset/AND_dataset/Dataset[WithFeatures]/AND_Features.csv')\n",
    "# df_data\n",
    "# ##data = pd.DataFrame(data={'A': [0, 0, 1], 'B': [0, 1, 0], 'C': [1, 1, 0]})\\n\",\n",
    "# model = BayesianModel()\n",
    "# #model.add_nodes_from(['f1', 'f2', 'f3', 'f4', 'f5', 'f6', 'f7', 'f8', 'f9'])\\n\",\n",
    "# model.add_edges_from([('f2', 'f4'), ('f2', 'f6'), ('f4', 'f7'), ('f4', 'f3'), ('f7', 'f1'), ('f3', 'f5'), ('f6', 'f8')])\n",
    "# model.fit(df_data)\n",
    "# data_pgm = model.get_cpds()\n",
    "# df1 = pd.DataFrame(data_pgm)\n",
    "# df1.to_csv('G:/e-books/computer_science/AML/AND_dataset/AND_dataset/Dataset[WithFeatures]/out1.csv')"
   ]
  },
  {
   "cell_type": "code",
   "execution_count": 12,
   "metadata": {},
   "outputs": [
    {
     "name": "stderr",
     "output_type": "stream",
     "text": [
      "100%|██████████████████████████████████████████████████████████████████████████████████| 70/70 [00:01<00:00, 42.21it/s]\n"
     ]
    }
   ],
   "source": [
    "#project code starts from here...\n",
    "from pgmpy.models import BayesianModel\n",
    "from pgmpy.factors.discrete import TabularCPD\n",
    "from pgmpy.estimators import BayesianEstimator\n",
    "from pgmpy.inference import VariableElimination\n",
    "import pandas as pd\n",
    "df_data = pd.read_csv('AND_Features.csv')\n",
    "df_data2 = df_data[['f1', 'f2', 'f3', 'f4', 'f5', 'f6', 'f7', 'f8','f9']]\n",
    "import numpy as np\n",
    "from tqdm import tqdm\n",
    "\n",
    "columns = ['f' + str(i) for i in range(1,19)] + [\"label\"]\n",
    "df2 = pd.DataFrame(columns = columns)\n",
    "\n",
    "dp=[]\n",
    "for i in tqdm(range(0,len(df_data)-956)):\n",
    "    for j in range(i+1,len(df_data)-956):\n",
    "        arr = np.hstack((df_data2.loc[i],df_data2.loc[j]))\n",
    "        a = int(df_data.iloc[i][\"ImageId\"][:-1])\n",
    "        b = int(df_data.iloc[j][\"ImageId\"][:-1])\n",
    "        if a == b:\n",
    "        #if int(df_data.iloc[i][\"ImageId\"][:-1]) == int(df_data.iloc[j][\"ImageId\"][:-1]):\n",
    "        #if (pd.DataFrame(df_data.iloc[i][\"ImageId\"][:-1])).equals(pd.DataFrame(df_data.iloc[j][\"ImageId\"][:-1])):\n",
    "            label = np.array([1])\n",
    "        else:\n",
    "            label = np.array([0])\n",
    "        arr2 = np.hstack((arr,label))\n",
    "        #temp1 = pd.DataFrame(arr2)\n",
    "        dp.append(arr2)\n",
    "        #temp1.to_csv('out11.csv')\n",
    "\n",
    "        \n",
    "        assert len(arr2) == 19\n",
    "dp = np.array(dp)\n",
    "df = pd.DataFrame(dp)\n",
    "df.columns = ['f0', 'f1', 'f2', 'f3', 'f4', 'f5', 'f6', 'f8', 'f10', 'f11', 'f12', 'f13', 'f14', 'f15', 'f16', 'f17', 'f18', 'f19', 'similarity']\n",
    "df.to_csv(\"temp.csv\",index=False)        \n",
    "        \n",
    "#print(df_data2.columns)"
   ]
  },
  {
   "cell_type": "code",
   "execution_count": 13,
   "metadata": {
    "collapsed": true
   },
   "outputs": [],
   "source": [
    "from pandas import read_csv\n",
    "\n",
    "df = read_csv('temp.csv')\n",
    "df.columns = ['f1', 'f2', 'f3', 'f4', 'f5', 'f6', 'f7', 'f8', 'f9', 'f10', 'f11', 'f12', 'f13', 'f14', 'f15', 'f16', 'f18', 'f19', 'similarity']\n",
    "df.to_csv('test_2.csv')"
   ]
  },
  {
   "cell_type": "code",
   "execution_count": 310,
   "metadata": {},
   "outputs": [
    {
     "name": "stderr",
     "output_type": "stream",
     "text": [
      "100%|██████████████████████████████████████████████████████████████████████████████████| 30/30 [00:00<00:00, 59.48it/s]\n"
     ]
    }
   ],
   "source": [
    "# #creating the test_data not to be rerun(870 entries)\n",
    "# dp2=[]\n",
    "# for i in tqdm(range(70,100)):\n",
    "#     for j in range(71,100):\n",
    "#         arr = np.hstack((df_data2.loc[i],df_data2.loc[j]))\n",
    "#         a = int(df_data.iloc[i][\"ImageId\"][:-1])\n",
    "#         b = int(df_data.iloc[j][\"ImageId\"][:-1])\n",
    "#         if a == b:\n",
    "#         #if int(df_data.iloc[i][\"ImageId\"][:-1]) == int(df_data.iloc[j][\"ImageId\"][:-1]):\n",
    "#         #if (pd.DataFrame(df_data.iloc[i][\"ImageId\"][:-1])).equals(pd.DataFrame(df_data.iloc[j][\"ImageId\"][:-1])):\n",
    "#             label = np.array([1])\n",
    "#         else:\n",
    "#             label = np.array([0])\n",
    "#         arr2 = np.hstack((arr,label))\n",
    "#         #temp1 = pd.DataFrame(arr2)\n",
    "#         dp2.append(arr2)\n",
    "#         #temp1.to_csv('out11.csv')\n",
    "#     #dp2.append()\n",
    "        \n",
    "#     assert len(arr2) == 19\n",
    "# dp2 = np.array(dp2)\n",
    "# df2 = pd.DataFrame(dp2)\n",
    "# df2.columns = ['f1', 'f2', 'f3', 'f4', 'f5', 'f6', 'f7', 'f8', 'f9','f10', 'f11', 'f12', 'f13', 'f14', 'f15', 'f16', 'f17', 'f18', 'similarity']\n",
    "# df2.to_csv(\"test_data.csv\",index=False)   "
   ]
  },
  {
   "cell_type": "code",
   "execution_count": 263,
   "metadata": {},
   "outputs": [
    {
     "name": "stderr",
     "output_type": "stream",
     "text": [
      "100%|████████████████████████████████████████████████████████████████████████████████| 100/100 [00:04<00:00, 22.14it/s]\n"
     ]
    }
   ],
   "source": [
    "# #creating the train_data not to be rerun(10000 entries)\n",
    "# df_data = pd.read_csv('AND_Features.csv')\n",
    "# dp1=[]\n",
    "# for i in tqdm(range(0,100)):\n",
    "#     for j in range(0,100):\n",
    "#         arr = np.hstack((df_data2.loc[i],df_data2.loc[j]))\n",
    "#         a = int(df_data.iloc[i][\"ImageId\"][:-1])\n",
    "#         b = int(df_data.iloc[j][\"ImageId\"][:-1])\n",
    "#         if a == b:\n",
    "#         #if int(df_data.iloc[i][\"ImageId\"][:-1]) == int(df_data.iloc[j][\"ImageId\"][:-1]):\n",
    "#         #if (pd.DataFrame(df_data.iloc[i][\"ImageId\"][:-1])).equals(pd.DataFrame(df_data.iloc[j][\"ImageId\"][:-1])):\n",
    "#             label = np.array([1])\n",
    "#         else:\n",
    "#             label = np.array([0])\n",
    "#         arr2 = np.hstack((arr,label))\n",
    "#         #temp1 = pd.DataFrame(arr2)\n",
    "#         dp1.append(arr2)\n",
    "#         #temp1.to_csv('out11.csv')\n",
    "\n",
    "        \n",
    "#         assert len(arr2) == 19\n",
    "# dp1 = np.array(dp1)\n",
    "# df1 = pd.DataFrame(dp1)\n",
    "# df1.columns = ['f1', 'f2', 'f3', 'f4', 'f5', 'f6','f7', 'f8','f9', 'f10', 'f11', 'f12', 'f13', 'f14', 'f15', 'f16', 'f17', 'f18', 'similarity']\n",
    "# df1.to_csv(\"train_data.csv\",index=False)   "
   ]
  },
  {
   "cell_type": "code",
   "execution_count": 14,
   "metadata": {},
   "outputs": [
    {
     "data": {
      "text/plain": [
       "[<TabularCPD representing P(f1:5 | f4:5, f7:3) at 0x1bc9c84df28>,\n",
       " <TabularCPD representing P(f10:5 | f13:5, f16:3) at 0x1bc9c68c128>,\n",
       " <TabularCPD representing P(f11:5 | f10:5, f15:5) at 0x1bc9c68c4e0>,\n",
       " <TabularCPD representing P(f12:3 | f15:5) at 0x1bc9c68c240>,\n",
       " <TabularCPD representing P(f13:5 | f12:3, f15:5) at 0x1bc9c6bdf28>,\n",
       " <TabularCPD representing P(f14:4 | f11:5, f17:6) at 0x1bc9c68c550>,\n",
       " <TabularCPD representing P(f15:5) at 0x1bc9c6be358>,\n",
       " <TabularCPD representing P(f16:3 | f13:5) at 0x1bc9c6beac8>,\n",
       " <TabularCPD representing P(f17:6 | f12:3) at 0x1bc9c6be0f0>,\n",
       " <TabularCPD representing P(f18:4 | f14:4, f16:3) at 0x1bc9c68c4a8>,\n",
       " <TabularCPD representing P(f2:5 | f1:5, f6:5) at 0x1bc9c6bdeb8>,\n",
       " <TabularCPD representing P(f3:3 | f6:5) at 0x1bc9c6bdcf8>,\n",
       " <TabularCPD representing P(f4:5 | f3:3, f6:5) at 0x1bc9c6be518>,\n",
       " <TabularCPD representing P(f5:4 | f2:5, f8:6) at 0x1bc9c6be588>,\n",
       " <TabularCPD representing P(f6:5) at 0x1bc9c6be2e8>,\n",
       " <TabularCPD representing P(f7:3 | f4:5, f8:6) at 0x1bc9c68c080>,\n",
       " <TabularCPD representing P(f8:6 | f3:3) at 0x1bc9c6beb38>,\n",
       " <TabularCPD representing P(f9:4 | f5:4, f7:3) at 0x1bc9c6be5f8>,\n",
       " <TabularCPD representing P(similarity:2 | f11:5, f2:5) at 0x1bc9c6beeb8>]"
      ]
     },
     "execution_count": 14,
     "metadata": {},
     "output_type": "execute_result"
    }
   ],
   "source": [
    "#creating a bayesian model and generating cpds on train_data set\n",
    "import numpy as np\n",
    "from pgmpy.models import BayesianModel\n",
    "from pgmpy.factors.discrete import TabularCPD\n",
    "from pgmpy.estimators import BayesianEstimator\n",
    "from pgmpy.inference import VariableElimination\n",
    "import pandas as pd\n",
    "df_data1 = pd.read_csv('train_data.csv')\n",
    "df2_data1 = df_data1.iloc[np.random.permutation(len(df_data1))]\n",
    "df_data1 = df2_data1\n",
    "##data = pd.DataFrame(data={'A': [0, 0, 1], 'B': [0, 1, 0], 'C': [1, 1, 0]})\\n\",\n",
    "model = BayesianModel()\n",
    "model.add_nodes_from(['f1', 'f2', 'f3', 'f4', 'f5', 'f6', 'f7', 'f8', 'f9', 'f10', 'f11', 'f12', 'f13', 'f14', 'f15', 'f16', 'f17', 'f18', 'similarity'])\n",
    "#model.add_edges_from([('f2', 'f4'), ('f2', 'f6'), ('f4', 'f7'), ('f4', 'f3'), ('f7', 'f1'), ('f3', 'f5'), ('f6', 'f8'), ('f11', 'f13'), ('f11', 'f15'), ('f13', 'f16'), ('f13', 'f12'), ('f16', 'f10'), ('f12', 'f14'), ('f15', 'f17')])\n",
    "model.add_edges_from([('f6','f2'),('f6','f3'),('f6','f4'),('f3','f4'),('f3','f8'),('f4','f7'),('f8','f7'),('f4','f1'),('f7','f1'),('f1','f2'), ('f2','f5'), ('f5', 'f9'), ('f7', 'f9'), ('f8','f5'),('f15','f11'),('f15','f12'),('f15', 'f13'), ('f12','f13'), ('f12', 'f17'), ('f13', 'f16'), ('f13', 'f10'), ('f16', 'f10'), ('f10', 'f11'), ('f11', 'f14'), ('f14', 'f18'), ('f16', 'f18'), ('f17', 'f14'), ('f2', 'similarity'), ('f11', 'similarity')])\n",
    "model.fit(df_data1)\n",
    "data_pgm_train = model.get_cpds()\n",
    "data_pgm_train"
   ]
  },
  {
   "cell_type": "code",
   "execution_count": 15,
   "metadata": {
    "collapsed": true
   },
   "outputs": [],
   "source": [
    "#inference test\n",
    "model_infer = VariableElimination(model)\n",
    "q = model_infer.query(variables=['similarity'], evidence={'f1':2,\n",
    "                                                          'f2':1, 'f3':1,'f4':0, 'f5':1, 'f6':2,'f7':0,'f8':2,'f9':2,'f10':2,'f11':1,'f12':1,\n",
    "                                                          'f13':0, 'f14':1, 'f15':2, 'f16':2, 'f17':0, 'f18':2\n",
    "                                                         })"
   ]
  },
  {
   "cell_type": "code",
   "execution_count": 377,
   "metadata": {},
   "outputs": [
    {
     "name": "stdout",
     "output_type": "stream",
     "text": [
      "{'similarity': <DiscreteFactor representing phi(similarity:2) at 0x1c87cb3dba8>}\n",
      "+--------------+-------------------+\n",
      "| similarity   |   phi(similarity) |\n",
      "+==============+===================+\n",
      "| similarity_0 |            0.9769 |\n",
      "+--------------+-------------------+\n",
      "| similarity_1 |            0.0231 |\n",
      "+--------------+-------------------+\n"
     ]
    }
   ],
   "source": [
    "print(q)\n",
    "print(q['similarity'])"
   ]
  },
  {
   "cell_type": "code",
   "execution_count": 16,
   "metadata": {},
   "outputs": [
    {
     "name": "stderr",
     "output_type": "stream",
     "text": [
      "\r",
      "  0%|                                                                                           | 0/50 [00:00<?, ?it/s]"
     ]
    },
    {
     "name": "stdout",
     "output_type": "stream",
     "text": [
      "+--------------+-------------------+\n",
      "| similarity   |   phi(similarity) |\n",
      "+==============+===================+\n",
      "| similarity_0 |            0.9769 |\n",
      "+--------------+-------------------+\n",
      "| similarity_1 |            0.0231 |\n",
      "+--------------+-------------------+\n"
     ]
    },
    {
     "name": "stderr",
     "output_type": "stream",
     "text": [
      "\r",
      "  2%|█▋                                                                                 | 1/50 [00:00<00:07,  6.83it/s]"
     ]
    },
    {
     "name": "stdout",
     "output_type": "stream",
     "text": [
      "+--------------+-------------------+\n",
      "| similarity   |   phi(similarity) |\n",
      "+==============+===================+\n",
      "| similarity_0 |            0.9769 |\n",
      "+--------------+-------------------+\n",
      "| similarity_1 |            0.0231 |\n",
      "+--------------+-------------------+\n"
     ]
    },
    {
     "name": "stderr",
     "output_type": "stream",
     "text": [
      "\r",
      "  4%|███▎                                                                               | 2/50 [00:00<00:06,  7.39it/s]"
     ]
    },
    {
     "name": "stdout",
     "output_type": "stream",
     "text": [
      "+--------------+-------------------+\n",
      "| similarity   |   phi(similarity) |\n",
      "+==============+===================+\n",
      "| similarity_0 |            0.9769 |\n",
      "+--------------+-------------------+\n",
      "| similarity_1 |            0.0231 |\n",
      "+--------------+-------------------+\n"
     ]
    },
    {
     "name": "stderr",
     "output_type": "stream",
     "text": [
      "\r",
      "  6%|████▉                                                                              | 3/50 [00:00<00:06,  7.57it/s]"
     ]
    },
    {
     "name": "stdout",
     "output_type": "stream",
     "text": [
      "+--------------+-------------------+\n",
      "| similarity   |   phi(similarity) |\n",
      "+==============+===================+\n",
      "| similarity_0 |            0.9769 |\n",
      "+--------------+-------------------+\n",
      "| similarity_1 |            0.0231 |\n",
      "+--------------+-------------------+\n"
     ]
    },
    {
     "name": "stderr",
     "output_type": "stream",
     "text": [
      "\r",
      "  8%|██████▋                                                                            | 4/50 [00:00<00:05,  7.73it/s]"
     ]
    },
    {
     "name": "stdout",
     "output_type": "stream",
     "text": [
      "+--------------+-------------------+\n",
      "| similarity   |   phi(similarity) |\n",
      "+==============+===================+\n",
      "| similarity_0 |            0.9769 |\n",
      "+--------------+-------------------+\n",
      "| similarity_1 |            0.0231 |\n",
      "+--------------+-------------------+\n"
     ]
    },
    {
     "name": "stderr",
     "output_type": "stream",
     "text": [
      "\r",
      " 10%|████████▎                                                                          | 5/50 [00:00<00:05,  7.54it/s]"
     ]
    },
    {
     "name": "stdout",
     "output_type": "stream",
     "text": [
      "+--------------+-------------------+\n",
      "| similarity   |   phi(similarity) |\n",
      "+==============+===================+\n",
      "| similarity_0 |            0.9769 |\n",
      "+--------------+-------------------+\n",
      "| similarity_1 |            0.0231 |\n",
      "+--------------+-------------------+\n"
     ]
    },
    {
     "name": "stderr",
     "output_type": "stream",
     "text": [
      "\r",
      " 12%|█████████▉                                                                         | 6/50 [00:00<00:05,  7.42it/s]"
     ]
    },
    {
     "name": "stdout",
     "output_type": "stream",
     "text": [
      "+--------------+-------------------+\n",
      "| similarity   |   phi(similarity) |\n",
      "+==============+===================+\n",
      "| similarity_0 |            0.9769 |\n",
      "+--------------+-------------------+\n",
      "| similarity_1 |            0.0231 |\n",
      "+--------------+-------------------+\n"
     ]
    },
    {
     "name": "stderr",
     "output_type": "stream",
     "text": [
      "\r",
      " 14%|███████████▌                                                                       | 7/50 [00:00<00:05,  7.52it/s]"
     ]
    },
    {
     "name": "stdout",
     "output_type": "stream",
     "text": [
      "+--------------+-------------------+\n",
      "| similarity   |   phi(similarity) |\n",
      "+==============+===================+\n",
      "| similarity_0 |            0.9769 |\n",
      "+--------------+-------------------+\n",
      "| similarity_1 |            0.0231 |\n",
      "+--------------+-------------------+\n"
     ]
    },
    {
     "name": "stderr",
     "output_type": "stream",
     "text": [
      "\r",
      " 16%|█████████████▎                                                                     | 8/50 [00:01<00:05,  7.27it/s]"
     ]
    },
    {
     "name": "stdout",
     "output_type": "stream",
     "text": [
      "+--------------+-------------------+\n",
      "| similarity   |   phi(similarity) |\n",
      "+==============+===================+\n",
      "| similarity_0 |            0.9769 |\n",
      "+--------------+-------------------+\n",
      "| similarity_1 |            0.0231 |\n",
      "+--------------+-------------------+\n"
     ]
    },
    {
     "name": "stderr",
     "output_type": "stream",
     "text": [
      "\r",
      " 18%|██████████████▉                                                                    | 9/50 [00:01<00:05,  7.20it/s]"
     ]
    },
    {
     "name": "stdout",
     "output_type": "stream",
     "text": [
      "+--------------+-------------------+\n",
      "| similarity   |   phi(similarity) |\n",
      "+==============+===================+\n",
      "| similarity_0 |            0.9769 |\n",
      "+--------------+-------------------+\n",
      "| similarity_1 |            0.0231 |\n",
      "+--------------+-------------------+\n"
     ]
    },
    {
     "name": "stderr",
     "output_type": "stream",
     "text": [
      "\r",
      " 20%|████████████████▍                                                                 | 10/50 [00:01<00:05,  7.17it/s]"
     ]
    },
    {
     "name": "stdout",
     "output_type": "stream",
     "text": [
      "+--------------+-------------------+\n",
      "| similarity   |   phi(similarity) |\n",
      "+==============+===================+\n",
      "| similarity_0 |            0.9769 |\n",
      "+--------------+-------------------+\n",
      "| similarity_1 |            0.0231 |\n",
      "+--------------+-------------------+\n"
     ]
    },
    {
     "name": "stderr",
     "output_type": "stream",
     "text": [
      "\r",
      " 22%|██████████████████                                                                | 11/50 [00:01<00:05,  7.15it/s]"
     ]
    },
    {
     "name": "stdout",
     "output_type": "stream",
     "text": [
      "+--------------+-------------------+\n",
      "| similarity   |   phi(similarity) |\n",
      "+==============+===================+\n",
      "| similarity_0 |            0.5000 |\n",
      "+--------------+-------------------+\n",
      "| similarity_1 |            0.5000 |\n",
      "+--------------+-------------------+\n"
     ]
    },
    {
     "name": "stderr",
     "output_type": "stream",
     "text": [
      "\r",
      " 24%|███████████████████▋                                                              | 12/50 [00:01<00:05,  7.13it/s]"
     ]
    },
    {
     "name": "stdout",
     "output_type": "stream",
     "text": [
      "+--------------+-------------------+\n",
      "| similarity   |   phi(similarity) |\n",
      "+==============+===================+\n",
      "| similarity_0 |            0.9769 |\n",
      "+--------------+-------------------+\n",
      "| similarity_1 |            0.0231 |\n",
      "+--------------+-------------------+\n"
     ]
    },
    {
     "name": "stderr",
     "output_type": "stream",
     "text": [
      "\r",
      " 26%|█████████████████████▎                                                            | 13/50 [00:01<00:05,  7.16it/s]"
     ]
    },
    {
     "name": "stdout",
     "output_type": "stream",
     "text": [
      "+--------------+-------------------+\n",
      "| similarity   |   phi(similarity) |\n",
      "+==============+===================+\n",
      "| similarity_0 |            0.9769 |\n",
      "+--------------+-------------------+\n",
      "| similarity_1 |            0.0231 |\n",
      "+--------------+-------------------+\n"
     ]
    },
    {
     "name": "stderr",
     "output_type": "stream",
     "text": [
      "\r",
      " 28%|██████████████████████▉                                                           | 14/50 [00:01<00:05,  7.07it/s]"
     ]
    },
    {
     "name": "stdout",
     "output_type": "stream",
     "text": [
      "+--------------+-------------------+\n",
      "| similarity   |   phi(similarity) |\n",
      "+==============+===================+\n",
      "| similarity_0 |            0.9769 |\n",
      "+--------------+-------------------+\n",
      "| similarity_1 |            0.0231 |\n",
      "+--------------+-------------------+\n"
     ]
    },
    {
     "name": "stderr",
     "output_type": "stream",
     "text": [
      "\r",
      " 30%|████████████████████████▌                                                         | 15/50 [00:02<00:04,  7.08it/s]"
     ]
    },
    {
     "name": "stdout",
     "output_type": "stream",
     "text": [
      "+--------------+-------------------+\n",
      "| similarity   |   phi(similarity) |\n",
      "+==============+===================+\n",
      "| similarity_0 |            0.9769 |\n",
      "+--------------+-------------------+\n",
      "| similarity_1 |            0.0231 |\n",
      "+--------------+-------------------+\n"
     ]
    },
    {
     "name": "stderr",
     "output_type": "stream",
     "text": [
      "\r",
      " 32%|██████████████████████████▏                                                       | 16/50 [00:02<00:04,  7.14it/s]"
     ]
    },
    {
     "name": "stdout",
     "output_type": "stream",
     "text": [
      "+--------------+-------------------+\n",
      "| similarity   |   phi(similarity) |\n",
      "+==============+===================+\n",
      "| similarity_0 |            0.9769 |\n",
      "+--------------+-------------------+\n",
      "| similarity_1 |            0.0231 |\n",
      "+--------------+-------------------+\n"
     ]
    },
    {
     "name": "stderr",
     "output_type": "stream",
     "text": [
      "\r",
      " 34%|███████████████████████████▉                                                      | 17/50 [00:02<00:04,  7.18it/s]"
     ]
    },
    {
     "name": "stdout",
     "output_type": "stream",
     "text": [
      "+--------------+-------------------+\n",
      "| similarity   |   phi(similarity) |\n",
      "+==============+===================+\n",
      "| similarity_0 |            0.9769 |\n",
      "+--------------+-------------------+\n",
      "| similarity_1 |            0.0231 |\n",
      "+--------------+-------------------+\n"
     ]
    },
    {
     "name": "stderr",
     "output_type": "stream",
     "text": [
      "\r",
      " 36%|█████████████████████████████▌                                                    | 18/50 [00:02<00:04,  7.10it/s]"
     ]
    },
    {
     "name": "stdout",
     "output_type": "stream",
     "text": [
      "+--------------+-------------------+\n",
      "| similarity   |   phi(similarity) |\n",
      "+==============+===================+\n",
      "| similarity_0 |            1.0000 |\n",
      "+--------------+-------------------+\n",
      "| similarity_1 |            0.0000 |\n",
      "+--------------+-------------------+\n"
     ]
    },
    {
     "name": "stderr",
     "output_type": "stream",
     "text": [
      "\r",
      " 38%|███████████████████████████████▏                                                  | 19/50 [00:02<00:04,  7.09it/s]"
     ]
    },
    {
     "name": "stdout",
     "output_type": "stream",
     "text": [
      "+--------------+-------------------+\n",
      "| similarity   |   phi(similarity) |\n",
      "+==============+===================+\n",
      "| similarity_0 |            0.9769 |\n",
      "+--------------+-------------------+\n",
      "| similarity_1 |            0.0231 |\n",
      "+--------------+-------------------+\n"
     ]
    },
    {
     "name": "stderr",
     "output_type": "stream",
     "text": [
      "\r",
      " 40%|████████████████████████████████▊                                                 | 20/50 [00:02<00:04,  7.04it/s]"
     ]
    },
    {
     "name": "stdout",
     "output_type": "stream",
     "text": [
      "+--------------+-------------------+\n",
      "| similarity   |   phi(similarity) |\n",
      "+==============+===================+\n",
      "| similarity_0 |            0.9769 |\n",
      "+--------------+-------------------+\n",
      "| similarity_1 |            0.0231 |\n",
      "+--------------+-------------------+\n"
     ]
    },
    {
     "name": "stderr",
     "output_type": "stream",
     "text": [
      "\r",
      " 42%|██████████████████████████████████▍                                               | 21/50 [00:02<00:04,  7.01it/s]"
     ]
    },
    {
     "name": "stdout",
     "output_type": "stream",
     "text": [
      "+--------------+-------------------+\n",
      "| similarity   |   phi(similarity) |\n",
      "+==============+===================+\n",
      "| similarity_0 |            0.9769 |\n",
      "+--------------+-------------------+\n",
      "| similarity_1 |            0.0231 |\n",
      "+--------------+-------------------+\n"
     ]
    },
    {
     "name": "stderr",
     "output_type": "stream",
     "text": [
      "\r",
      " 44%|████████████████████████████████████                                              | 22/50 [00:03<00:03,  7.02it/s]"
     ]
    },
    {
     "name": "stdout",
     "output_type": "stream",
     "text": [
      "+--------------+-------------------+\n",
      "| similarity   |   phi(similarity) |\n",
      "+==============+===================+\n",
      "| similarity_0 |            0.9769 |\n",
      "+--------------+-------------------+\n",
      "| similarity_1 |            0.0231 |\n",
      "+--------------+-------------------+\n"
     ]
    },
    {
     "name": "stderr",
     "output_type": "stream",
     "text": [
      "\r",
      " 46%|█████████████████████████████████████▋                                            | 23/50 [00:03<00:03,  7.05it/s]"
     ]
    },
    {
     "name": "stdout",
     "output_type": "stream",
     "text": [
      "+--------------+-------------------+\n",
      "| similarity   |   phi(similarity) |\n",
      "+==============+===================+\n",
      "| similarity_0 |            0.9947 |\n",
      "+--------------+-------------------+\n",
      "| similarity_1 |            0.0053 |\n",
      "+--------------+-------------------+\n"
     ]
    },
    {
     "name": "stderr",
     "output_type": "stream",
     "text": [
      "\r",
      " 48%|███████████████████████████████████████▎                                          | 24/50 [00:03<00:03,  7.05it/s]"
     ]
    },
    {
     "name": "stdout",
     "output_type": "stream",
     "text": [
      "+--------------+-------------------+\n",
      "| similarity   |   phi(similarity) |\n",
      "+==============+===================+\n",
      "| similarity_0 |            0.9769 |\n",
      "+--------------+-------------------+\n",
      "| similarity_1 |            0.0231 |\n",
      "+--------------+-------------------+\n"
     ]
    },
    {
     "name": "stderr",
     "output_type": "stream",
     "text": [
      "\r",
      " 50%|█████████████████████████████████████████                                         | 25/50 [00:03<00:03,  6.98it/s]"
     ]
    },
    {
     "name": "stdout",
     "output_type": "stream",
     "text": [
      "+--------------+-------------------+\n",
      "| similarity   |   phi(similarity) |\n",
      "+==============+===================+\n",
      "| similarity_0 |            0.9769 |\n",
      "+--------------+-------------------+\n",
      "| similarity_1 |            0.0231 |\n",
      "+--------------+-------------------+\n"
     ]
    },
    {
     "name": "stderr",
     "output_type": "stream",
     "text": [
      "\r",
      " 52%|██████████████████████████████████████████▋                                       | 26/50 [00:03<00:03,  6.86it/s]"
     ]
    },
    {
     "name": "stdout",
     "output_type": "stream",
     "text": [
      "+--------------+-------------------+\n",
      "| similarity   |   phi(similarity) |\n",
      "+==============+===================+\n",
      "| similarity_0 |            0.5000 |\n",
      "+--------------+-------------------+\n",
      "| similarity_1 |            0.5000 |\n",
      "+--------------+-------------------+\n"
     ]
    },
    {
     "name": "stderr",
     "output_type": "stream",
     "text": [
      "\r",
      " 54%|████████████████████████████████████████████▎                                     | 27/50 [00:03<00:03,  6.78it/s]"
     ]
    },
    {
     "name": "stdout",
     "output_type": "stream",
     "text": [
      "+--------------+-------------------+\n",
      "| similarity   |   phi(similarity) |\n",
      "+==============+===================+\n",
      "| similarity_0 |            0.9769 |\n",
      "+--------------+-------------------+\n",
      "| similarity_1 |            0.0231 |\n",
      "+--------------+-------------------+\n"
     ]
    },
    {
     "name": "stderr",
     "output_type": "stream",
     "text": [
      "\r",
      " 56%|█████████████████████████████████████████████▉                                    | 28/50 [00:04<00:03,  6.80it/s]"
     ]
    },
    {
     "name": "stdout",
     "output_type": "stream",
     "text": [
      "+--------------+-------------------+\n",
      "| similarity   |   phi(similarity) |\n",
      "+==============+===================+\n",
      "| similarity_0 |            0.9769 |\n",
      "+--------------+-------------------+\n",
      "| similarity_1 |            0.0231 |\n",
      "+--------------+-------------------+\n"
     ]
    },
    {
     "name": "stderr",
     "output_type": "stream",
     "text": [
      "\r",
      " 58%|███████████████████████████████████████████████▌                                  | 29/50 [00:04<00:03,  6.83it/s]"
     ]
    },
    {
     "name": "stdout",
     "output_type": "stream",
     "text": [
      "+--------------+-------------------+\n",
      "| similarity   |   phi(similarity) |\n",
      "+==============+===================+\n",
      "| similarity_0 |            0.9769 |\n",
      "+--------------+-------------------+\n",
      "| similarity_1 |            0.0231 |\n",
      "+--------------+-------------------+\n"
     ]
    },
    {
     "name": "stderr",
     "output_type": "stream",
     "text": [
      "\r",
      " 60%|█████████████████████████████████████████████████▏                                | 30/50 [00:04<00:02,  6.81it/s]"
     ]
    },
    {
     "name": "stdout",
     "output_type": "stream",
     "text": [
      "+--------------+-------------------+\n",
      "| similarity   |   phi(similarity) |\n",
      "+==============+===================+\n",
      "| similarity_0 |            0.9769 |\n",
      "+--------------+-------------------+\n",
      "| similarity_1 |            0.0231 |\n",
      "+--------------+-------------------+\n"
     ]
    },
    {
     "name": "stderr",
     "output_type": "stream",
     "text": [
      "\r",
      " 62%|██████████████████████████████████████████████████▊                               | 31/50 [00:04<00:02,  6.80it/s]"
     ]
    },
    {
     "name": "stdout",
     "output_type": "stream",
     "text": [
      "+--------------+-------------------+\n",
      "| similarity   |   phi(similarity) |\n",
      "+==============+===================+\n",
      "| similarity_0 |            0.9769 |\n",
      "+--------------+-------------------+\n",
      "| similarity_1 |            0.0231 |\n",
      "+--------------+-------------------+\n"
     ]
    },
    {
     "name": "stderr",
     "output_type": "stream",
     "text": [
      "\r",
      " 64%|████████████████████████████████████████████████████▍                             | 32/50 [00:04<00:02,  6.77it/s]"
     ]
    },
    {
     "name": "stdout",
     "output_type": "stream",
     "text": [
      "+--------------+-------------------+\n",
      "| similarity   |   phi(similarity) |\n",
      "+==============+===================+\n",
      "| similarity_0 |            0.9769 |\n",
      "+--------------+-------------------+\n",
      "| similarity_1 |            0.0231 |\n",
      "+--------------+-------------------+\n"
     ]
    },
    {
     "name": "stderr",
     "output_type": "stream",
     "text": [
      "\r",
      " 66%|██████████████████████████████████████████████████████                            | 33/50 [00:04<00:02,  6.79it/s]"
     ]
    },
    {
     "name": "stdout",
     "output_type": "stream",
     "text": [
      "+--------------+-------------------+\n",
      "| similarity   |   phi(similarity) |\n",
      "+==============+===================+\n",
      "| similarity_0 |            0.9769 |\n",
      "+--------------+-------------------+\n",
      "| similarity_1 |            0.0231 |\n",
      "+--------------+-------------------+\n"
     ]
    },
    {
     "name": "stderr",
     "output_type": "stream",
     "text": [
      "\r",
      " 68%|███████████████████████████████████████████████████████▊                          | 34/50 [00:04<00:02,  6.81it/s]"
     ]
    },
    {
     "name": "stdout",
     "output_type": "stream",
     "text": [
      "+--------------+-------------------+\n",
      "| similarity   |   phi(similarity) |\n",
      "+==============+===================+\n",
      "| similarity_0 |            0.9769 |\n",
      "+--------------+-------------------+\n",
      "| similarity_1 |            0.0231 |\n",
      "+--------------+-------------------+\n"
     ]
    },
    {
     "name": "stderr",
     "output_type": "stream",
     "text": [
      "\r",
      " 70%|█████████████████████████████████████████████████████████▍                        | 35/50 [00:05<00:02,  6.84it/s]"
     ]
    },
    {
     "name": "stdout",
     "output_type": "stream",
     "text": [
      "+--------------+-------------------+\n",
      "| similarity   |   phi(similarity) |\n",
      "+==============+===================+\n",
      "| similarity_0 |            0.9769 |\n",
      "+--------------+-------------------+\n",
      "| similarity_1 |            0.0231 |\n",
      "+--------------+-------------------+\n"
     ]
    },
    {
     "name": "stderr",
     "output_type": "stream",
     "text": [
      "\r",
      " 72%|███████████████████████████████████████████████████████████                       | 36/50 [00:05<00:02,  6.80it/s]"
     ]
    },
    {
     "name": "stdout",
     "output_type": "stream",
     "text": [
      "+--------------+-------------------+\n",
      "| similarity   |   phi(similarity) |\n",
      "+==============+===================+\n",
      "| similarity_0 |            0.9769 |\n",
      "+--------------+-------------------+\n",
      "| similarity_1 |            0.0231 |\n",
      "+--------------+-------------------+\n"
     ]
    },
    {
     "name": "stderr",
     "output_type": "stream",
     "text": [
      "\r",
      " 74%|████████████████████████████████████████████████████████████▋                     | 37/50 [00:05<00:01,  6.79it/s]"
     ]
    },
    {
     "name": "stdout",
     "output_type": "stream",
     "text": [
      "+--------------+-------------------+\n",
      "| similarity   |   phi(similarity) |\n",
      "+==============+===================+\n",
      "| similarity_0 |            0.9769 |\n",
      "+--------------+-------------------+\n",
      "| similarity_1 |            0.0231 |\n",
      "+--------------+-------------------+\n"
     ]
    },
    {
     "name": "stderr",
     "output_type": "stream",
     "text": [
      "\r",
      " 76%|██████████████████████████████████████████████████████████████▎                   | 38/50 [00:05<00:01,  6.81it/s]"
     ]
    },
    {
     "name": "stdout",
     "output_type": "stream",
     "text": [
      "+--------------+-------------------+\n",
      "| similarity   |   phi(similarity) |\n",
      "+==============+===================+\n",
      "| similarity_0 |            0.9769 |\n",
      "+--------------+-------------------+\n",
      "| similarity_1 |            0.0231 |\n",
      "+--------------+-------------------+\n"
     ]
    },
    {
     "name": "stderr",
     "output_type": "stream",
     "text": [
      "\r",
      " 78%|███████████████████████████████████████████████████████████████▉                  | 39/50 [00:05<00:01,  6.79it/s]"
     ]
    },
    {
     "name": "stdout",
     "output_type": "stream",
     "text": [
      "+--------------+-------------------+\n",
      "| similarity   |   phi(similarity) |\n",
      "+==============+===================+\n",
      "| similarity_0 |            0.9769 |\n",
      "+--------------+-------------------+\n",
      "| similarity_1 |            0.0231 |\n",
      "+--------------+-------------------+\n"
     ]
    },
    {
     "name": "stderr",
     "output_type": "stream",
     "text": [
      "\r",
      " 80%|█████████████████████████████████████████████████████████████████▌                | 40/50 [00:05<00:01,  6.76it/s]"
     ]
    },
    {
     "name": "stdout",
     "output_type": "stream",
     "text": [
      "+--------------+-------------------+\n",
      "| similarity   |   phi(similarity) |\n",
      "+==============+===================+\n",
      "| similarity_0 |            0.5000 |\n",
      "+--------------+-------------------+\n",
      "| similarity_1 |            0.5000 |\n",
      "+--------------+-------------------+\n"
     ]
    },
    {
     "name": "stderr",
     "output_type": "stream",
     "text": [
      "\r",
      " 82%|███████████████████████████████████████████████████████████████████▏              | 41/50 [00:06<00:01,  6.74it/s]"
     ]
    },
    {
     "name": "stdout",
     "output_type": "stream",
     "text": [
      "+--------------+-------------------+\n",
      "| similarity   |   phi(similarity) |\n",
      "+==============+===================+\n",
      "| similarity_0 |            0.9769 |\n",
      "+--------------+-------------------+\n",
      "| similarity_1 |            0.0231 |\n",
      "+--------------+-------------------+\n"
     ]
    },
    {
     "name": "stderr",
     "output_type": "stream",
     "text": [
      "\r",
      " 84%|████████████████████████████████████████████████████████████████████▉             | 42/50 [00:06<00:01,  6.73it/s]"
     ]
    },
    {
     "name": "stdout",
     "output_type": "stream",
     "text": [
      "+--------------+-------------------+\n",
      "| similarity   |   phi(similarity) |\n",
      "+==============+===================+\n",
      "| similarity_0 |            0.9769 |\n",
      "+--------------+-------------------+\n",
      "| similarity_1 |            0.0231 |\n",
      "+--------------+-------------------+\n"
     ]
    },
    {
     "name": "stderr",
     "output_type": "stream",
     "text": [
      "\r",
      " 86%|██████████████████████████████████████████████████████████████████████▌           | 43/50 [00:06<00:01,  6.72it/s]"
     ]
    },
    {
     "name": "stdout",
     "output_type": "stream",
     "text": [
      "+--------------+-------------------+\n",
      "| similarity   |   phi(similarity) |\n",
      "+==============+===================+\n",
      "| similarity_0 |            0.9769 |\n",
      "+--------------+-------------------+\n",
      "| similarity_1 |            0.0231 |\n",
      "+--------------+-------------------+\n"
     ]
    },
    {
     "name": "stderr",
     "output_type": "stream",
     "text": [
      "\r",
      " 88%|████████████████████████████████████████████████████████████████████████▏         | 44/50 [00:06<00:00,  6.74it/s]"
     ]
    },
    {
     "name": "stdout",
     "output_type": "stream",
     "text": [
      "+--------------+-------------------+\n",
      "| similarity   |   phi(similarity) |\n",
      "+==============+===================+\n",
      "| similarity_0 |            0.9769 |\n",
      "+--------------+-------------------+\n",
      "| similarity_1 |            0.0231 |\n",
      "+--------------+-------------------+\n"
     ]
    },
    {
     "name": "stderr",
     "output_type": "stream",
     "text": [
      "\r",
      " 90%|█████████████████████████████████████████████████████████████████████████▊        | 45/50 [00:06<00:00,  6.75it/s]"
     ]
    },
    {
     "name": "stdout",
     "output_type": "stream",
     "text": [
      "+--------------+-------------------+\n",
      "| similarity   |   phi(similarity) |\n",
      "+==============+===================+\n",
      "| similarity_0 |            0.9769 |\n",
      "+--------------+-------------------+\n",
      "| similarity_1 |            0.0231 |\n",
      "+--------------+-------------------+\n"
     ]
    },
    {
     "name": "stderr",
     "output_type": "stream",
     "text": [
      "\r",
      " 92%|███████████████████████████████████████████████████████████████████████████▍      | 46/50 [00:06<00:00,  6.75it/s]"
     ]
    },
    {
     "name": "stdout",
     "output_type": "stream",
     "text": [
      "+--------------+-------------------+\n",
      "| similarity   |   phi(similarity) |\n",
      "+==============+===================+\n",
      "| similarity_0 |            0.9769 |\n",
      "+--------------+-------------------+\n",
      "| similarity_1 |            0.0231 |\n",
      "+--------------+-------------------+\n"
     ]
    },
    {
     "name": "stderr",
     "output_type": "stream",
     "text": [
      "\r",
      " 94%|█████████████████████████████████████████████████████████████████████████████     | 47/50 [00:06<00:00,  6.76it/s]"
     ]
    },
    {
     "name": "stdout",
     "output_type": "stream",
     "text": [
      "+--------------+-------------------+\n",
      "| similarity   |   phi(similarity) |\n",
      "+==============+===================+\n",
      "| similarity_0 |            1.0000 |\n",
      "+--------------+-------------------+\n",
      "| similarity_1 |            0.0000 |\n",
      "+--------------+-------------------+\n"
     ]
    },
    {
     "name": "stderr",
     "output_type": "stream",
     "text": [
      "\r",
      " 96%|██████████████████████████████████████████████████████████████████████████████▋   | 48/50 [00:07<00:00,  6.78it/s]"
     ]
    },
    {
     "name": "stdout",
     "output_type": "stream",
     "text": [
      "+--------------+-------------------+\n",
      "| similarity   |   phi(similarity) |\n",
      "+==============+===================+\n",
      "| similarity_0 |            0.9769 |\n",
      "+--------------+-------------------+\n",
      "| similarity_1 |            0.0231 |\n",
      "+--------------+-------------------+\n"
     ]
    },
    {
     "name": "stderr",
     "output_type": "stream",
     "text": [
      "\r",
      " 98%|████████████████████████████████████████████████████████████████████████████████▎ | 49/50 [00:07<00:00,  6.77it/s]"
     ]
    },
    {
     "name": "stdout",
     "output_type": "stream",
     "text": [
      "+--------------+-------------------+\n",
      "| similarity   |   phi(similarity) |\n",
      "+==============+===================+\n",
      "| similarity_0 |            0.9769 |\n",
      "+--------------+-------------------+\n",
      "| similarity_1 |            0.0231 |\n",
      "+--------------+-------------------+\n"
     ]
    },
    {
     "name": "stderr",
     "output_type": "stream",
     "text": [
      "100%|██████████████████████████████████████████████████████████████████████████████████| 50/50 [00:07<00:00,  6.78it/s]\n"
     ]
    }
   ],
   "source": [
    "#inference on the test_set\n",
    "from tqdm import tqdm\n",
    "test_data = pd.read_csv('test_data.csv')\n",
    "for i in tqdm(range(0, 50)):\n",
    "    q = model_infer.query(variables=['similarity'], evidence={'f1':test_data.iloc[i][\"f1\"],\n",
    " 'f2':test_data.iloc[i][\"f2\"],\n",
    " 'f3':test_data.iloc[i][\"f3\"],\n",
    " 'f4':test_data.iloc[i][\"f4\"],\n",
    " 'f5':test_data.iloc[i][\"f5\"],\n",
    " 'f6':test_data.iloc[i][\"f6\"],\n",
    " 'f7':test_data.iloc[i][\"f7\"],\n",
    " 'f8':test_data.iloc[i][\"f8\"],\n",
    " 'f9':test_data.iloc[i][\"f9\"],'f10':test_data.iloc[i][\"f10\"],\n",
    " 'f11':test_data.iloc[i][\"f11\"],\n",
    " 'f12':test_data.iloc[i][\"f12\"],\n",
    " 'f13':test_data.iloc[i][\"f13\"],\n",
    " 'f14':test_data.iloc[i][\"f14\"],\n",
    " 'f15':test_data.iloc[i][\"f15\"],\n",
    " 'f16':test_data.iloc[i][\"f16\"],\n",
    " 'f17':test_data.iloc[i][\"f17\"],\n",
    " 'f18':test_data.iloc[i][\"f18\"]})\n",
    "    print(q['similarity'])"
   ]
  },
  {
   "cell_type": "code",
   "execution_count": 46,
   "metadata": {},
   "outputs": [
    {
     "name": "stderr",
     "output_type": "stream",
     "text": [
      "100%|████████████████████████████████████████████████████████████████████████████████| 870/870 [04:21<00:00,  3.32it/s]\n"
     ]
    }
   ],
   "source": [
    "dictlist=[]\n",
    "from random import shuffle\n",
    "\n",
    "test_data = pd.read_csv('test_data.csv')\n",
    "df_data2 = test_data\n",
    "df2_data2 = df_data2.iloc[np.random.permutation(len(df_data2))]\n",
    "df_data2 = df2_data2\n",
    "#test_data = shuffle(test_data)\n",
    "\n",
    "for i in tqdm(range(0, 870)):\n",
    "    phi_query = model_infer.map_query(variables=['f10', 'f11', 'f12', 'f13', 'f14', 'f15', 'f16','f17', 'f18'],evidence={'f1':test_data.iloc[i][\"f1\"],\n",
    " 'f2':test_data.iloc[i][\"f2\"],\n",
    " 'f3':test_data.iloc[i][\"f3\"],\n",
    " 'f4':test_data.iloc[i][\"f4\"],\n",
    " 'f5':test_data.iloc[i][\"f5\"],\n",
    " 'f6':test_data.iloc[i][\"f6\"],\n",
    " 'f7':test_data.iloc[i][\"f7\"],\n",
    " 'f8':test_data.iloc[i][\"f8\"],\n",
    " 'f9':test_data.iloc[i][\"f9\"],\n",
    " 'similarity':1})\n",
    "    phi_query\n",
    "    temp=[]\n",
    "    for key, value in phi_query.items():\n",
    "       temp.append(value)\n",
    "    dictlist.append(temp)"
   ]
  },
  {
   "cell_type": "code",
   "execution_count": 38,
   "metadata": {},
   "outputs": [
    {
     "data": {
      "text/plain": [
       "[[2, 1, 1, 0, 2, 2, 0, 2, 2],\n",
       " [2, 1, 1, 0, 2, 2, 0, 2, 2],\n",
       " [2, 1, 1, 0, 2, 2, 0, 2, 2],\n",
       " [2, 1, 1, 0, 2, 2, 0, 2, 2],\n",
       " [2, 1, 1, 0, 2, 2, 0, 2, 2],\n",
       " [2, 1, 1, 0, 2, 2, 0, 2, 2],\n",
       " [2, 1, 1, 0, 2, 2, 0, 2, 2],\n",
       " [2, 1, 1, 0, 2, 2, 0, 2, 2],\n",
       " [2, 1, 1, 0, 2, 2, 0, 2, 2],\n",
       " [2, 1, 1, 0, 2, 2, 0, 2, 2],\n",
       " [2, 1, 1, 0, 2, 2, 0, 2, 2],\n",
       " [2, 1, 1, 0, 2, 2, 0, 2, 2],\n",
       " [2, 1, 1, 0, 2, 2, 0, 2, 2],\n",
       " [2, 1, 1, 0, 2, 2, 0, 2, 2],\n",
       " [2, 1, 1, 0, 2, 2, 0, 2, 2],\n",
       " [2, 1, 1, 0, 2, 2, 0, 2, 2],\n",
       " [2, 1, 1, 0, 2, 2, 0, 2, 2],\n",
       " [2, 1, 1, 0, 2, 2, 0, 2, 2],\n",
       " [2, 1, 1, 0, 2, 2, 0, 2, 2],\n",
       " [2, 1, 1, 0, 2, 2, 0, 2, 2],\n",
       " [2, 1, 1, 0, 2, 2, 0, 2, 2],\n",
       " [2, 1, 1, 0, 2, 2, 0, 2, 2],\n",
       " [2, 1, 1, 0, 2, 2, 0, 2, 2],\n",
       " [2, 1, 1, 0, 2, 2, 0, 2, 2],\n",
       " [2, 1, 1, 0, 2, 2, 0, 2, 2],\n",
       " [2, 1, 1, 0, 2, 2, 0, 2, 2],\n",
       " [2, 1, 1, 0, 2, 2, 0, 2, 2],\n",
       " [2, 1, 1, 0, 2, 2, 0, 2, 2],\n",
       " [2, 1, 1, 0, 2, 2, 0, 2, 2],\n",
       " [2, 1, 1, 0, 2, 2, 0, 2, 2],\n",
       " [2, 1, 1, 0, 2, 2, 0, 2, 2],\n",
       " [2, 1, 1, 0, 2, 2, 0, 2, 2],\n",
       " [2, 1, 1, 0, 2, 2, 0, 2, 2],\n",
       " [2, 1, 1, 0, 2, 2, 0, 2, 2],\n",
       " [2, 1, 1, 0, 2, 2, 0, 2, 2],\n",
       " [2, 1, 1, 0, 2, 2, 0, 2, 2],\n",
       " [2, 1, 1, 0, 2, 2, 0, 2, 2],\n",
       " [2, 1, 1, 0, 2, 2, 0, 2, 2],\n",
       " [2, 1, 1, 0, 2, 2, 0, 2, 2],\n",
       " [2, 2, 1, 0, 2, 2, 0, 2, 2],\n",
       " [2, 1, 1, 0, 2, 2, 0, 2, 2],\n",
       " [2, 1, 1, 0, 2, 2, 0, 2, 2],\n",
       " [2, 1, 1, 0, 2, 2, 0, 2, 2],\n",
       " [2, 1, 1, 0, 2, 2, 0, 2, 2],\n",
       " [2, 1, 1, 0, 2, 2, 0, 2, 2],\n",
       " [2, 1, 1, 0, 2, 2, 0, 2, 2],\n",
       " [2, 1, 1, 0, 2, 2, 0, 2, 2],\n",
       " [2, 2, 1, 0, 2, 2, 0, 2, 2],\n",
       " [2, 1, 1, 0, 2, 2, 0, 2, 2],\n",
       " [2, 1, 1, 0, 2, 2, 0, 2, 2],\n",
       " [2, 1, 1, 0, 2, 2, 0, 2, 2],\n",
       " [2, 1, 1, 0, 2, 2, 0, 2, 2],\n",
       " [2, 1, 1, 0, 2, 2, 0, 2, 2],\n",
       " [2, 1, 1, 0, 2, 2, 0, 2, 2],\n",
       " [2, 1, 1, 0, 2, 2, 0, 2, 2],\n",
       " [2, 1, 1, 0, 2, 2, 0, 2, 2],\n",
       " [2, 1, 1, 0, 2, 2, 0, 2, 2],\n",
       " [2, 1, 1, 0, 2, 2, 0, 2, 2],\n",
       " [2, 1, 1, 0, 2, 2, 0, 2, 2],\n",
       " [2, 1, 1, 0, 2, 2, 0, 2, 2],\n",
       " [2, 1, 1, 0, 2, 2, 0, 2, 2],\n",
       " [2, 1, 1, 0, 2, 2, 0, 2, 2],\n",
       " [2, 1, 1, 0, 2, 2, 0, 2, 2],\n",
       " [2, 1, 1, 0, 2, 2, 0, 2, 2],\n",
       " [2, 1, 1, 0, 2, 2, 0, 2, 2],\n",
       " [2, 2, 1, 0, 2, 2, 0, 2, 2],\n",
       " [2, 1, 1, 0, 2, 2, 0, 2, 2],\n",
       " [2, 1, 1, 0, 2, 2, 0, 2, 2],\n",
       " [2, 1, 1, 0, 2, 2, 0, 2, 2],\n",
       " [2, 1, 1, 0, 2, 2, 0, 2, 2],\n",
       " [2, 0, 1, 0, 2, 2, 0, 2, 2],\n",
       " [2, 1, 1, 0, 2, 2, 0, 2, 2],\n",
       " [2, 1, 1, 0, 2, 2, 0, 2, 2],\n",
       " [2, 1, 1, 0, 2, 2, 0, 2, 2],\n",
       " [2, 1, 1, 0, 2, 2, 0, 2, 2],\n",
       " [2, 1, 1, 0, 2, 2, 0, 2, 2],\n",
       " [2, 1, 1, 0, 2, 2, 0, 2, 2],\n",
       " [2, 1, 1, 0, 2, 2, 0, 2, 2],\n",
       " [2, 1, 1, 0, 2, 2, 0, 2, 2],\n",
       " [2, 1, 1, 0, 2, 2, 0, 2, 2],\n",
       " [2, 1, 1, 0, 2, 2, 0, 2, 2],\n",
       " [2, 1, 1, 0, 2, 2, 0, 2, 2],\n",
       " [2, 2, 1, 0, 2, 2, 0, 2, 2],\n",
       " [2, 1, 1, 0, 2, 2, 0, 2, 2],\n",
       " [2, 1, 1, 0, 2, 2, 0, 2, 2],\n",
       " [2, 1, 1, 0, 2, 2, 0, 2, 2],\n",
       " [2, 1, 1, 0, 2, 2, 0, 2, 2],\n",
       " [2, 1, 1, 0, 2, 2, 0, 2, 2],\n",
       " [2, 1, 1, 0, 2, 2, 0, 2, 2],\n",
       " [2, 1, 1, 0, 2, 2, 0, 2, 2],\n",
       " [2, 1, 1, 0, 2, 2, 0, 2, 2],\n",
       " [2, 2, 1, 0, 2, 2, 0, 2, 2],\n",
       " [2, 1, 1, 0, 2, 2, 0, 2, 2],\n",
       " [2, 1, 1, 0, 2, 2, 0, 2, 2],\n",
       " [2, 1, 1, 0, 2, 2, 0, 2, 2],\n",
       " [2, 1, 1, 0, 2, 2, 0, 2, 2],\n",
       " [2, 1, 1, 0, 2, 2, 0, 2, 2],\n",
       " [2, 1, 1, 0, 2, 2, 0, 2, 2],\n",
       " [2, 1, 1, 0, 2, 2, 0, 2, 2],\n",
       " [2, 1, 1, 0, 2, 2, 0, 2, 2],\n",
       " [2, 1, 1, 0, 2, 2, 0, 2, 2],\n",
       " [2, 1, 1, 0, 2, 2, 0, 2, 2],\n",
       " [2, 1, 1, 0, 2, 2, 0, 2, 2],\n",
       " [2, 1, 1, 0, 2, 2, 0, 2, 2],\n",
       " [2, 1, 1, 0, 2, 2, 0, 2, 2],\n",
       " [2, 1, 1, 0, 2, 2, 0, 2, 2],\n",
       " [2, 1, 1, 0, 2, 2, 0, 2, 2],\n",
       " [2, 1, 1, 0, 2, 2, 0, 2, 2],\n",
       " [2, 1, 1, 0, 2, 2, 0, 2, 2],\n",
       " [2, 1, 1, 0, 2, 2, 0, 2, 2],\n",
       " [2, 1, 1, 0, 2, 2, 0, 2, 2],\n",
       " [2, 1, 1, 0, 2, 2, 0, 2, 2],\n",
       " [2, 1, 1, 0, 2, 2, 0, 2, 2],\n",
       " [2, 1, 1, 0, 2, 2, 0, 2, 2],\n",
       " [2, 1, 1, 0, 2, 2, 0, 2, 2],\n",
       " [2, 0, 1, 0, 2, 2, 0, 2, 2],\n",
       " [2, 1, 1, 0, 2, 2, 0, 2, 2],\n",
       " [2, 1, 1, 0, 2, 2, 0, 2, 2],\n",
       " [2, 1, 1, 0, 2, 2, 0, 2, 2],\n",
       " [2, 1, 1, 0, 2, 2, 0, 2, 2],\n",
       " [2, 1, 1, 0, 2, 2, 0, 2, 2],\n",
       " [2, 1, 1, 0, 2, 2, 0, 2, 2],\n",
       " [2, 1, 1, 0, 2, 2, 0, 2, 2],\n",
       " [2, 1, 1, 0, 2, 2, 0, 2, 2],\n",
       " [2, 1, 1, 0, 2, 2, 0, 2, 2],\n",
       " [2, 1, 1, 0, 2, 2, 0, 2, 2],\n",
       " [2, 1, 1, 0, 2, 2, 0, 2, 2],\n",
       " [2, 1, 1, 0, 2, 2, 0, 2, 2],\n",
       " [2, 1, 1, 0, 2, 2, 0, 2, 2],\n",
       " [2, 1, 1, 0, 2, 2, 0, 2, 2],\n",
       " [2, 1, 1, 0, 2, 2, 0, 2, 2],\n",
       " [2, 1, 1, 0, 2, 2, 0, 2, 2],\n",
       " [2, 1, 1, 0, 2, 2, 0, 2, 2],\n",
       " [2, 1, 1, 0, 2, 2, 0, 2, 2],\n",
       " [2, 1, 1, 0, 2, 2, 0, 2, 2],\n",
       " [2, 1, 1, 0, 2, 2, 0, 2, 2],\n",
       " [2, 1, 1, 0, 2, 2, 0, 2, 2],\n",
       " [2, 1, 1, 0, 2, 2, 0, 2, 2],\n",
       " [2, 1, 1, 0, 2, 2, 0, 2, 2],\n",
       " [2, 1, 1, 0, 2, 2, 0, 2, 2],\n",
       " [2, 1, 1, 0, 2, 2, 0, 2, 2],\n",
       " [2, 0, 1, 0, 2, 2, 0, 2, 2],\n",
       " [2, 1, 1, 0, 2, 2, 0, 2, 2],\n",
       " [2, 1, 1, 0, 2, 2, 0, 2, 2],\n",
       " [2, 1, 1, 0, 2, 2, 0, 2, 2],\n",
       " [2, 1, 1, 0, 2, 2, 0, 2, 2],\n",
       " [2, 1, 1, 0, 2, 2, 0, 2, 2],\n",
       " [2, 1, 1, 0, 2, 2, 0, 2, 2],\n",
       " [2, 1, 1, 0, 2, 2, 0, 2, 2],\n",
       " [2, 1, 1, 0, 2, 2, 0, 2, 2],\n",
       " [2, 1, 1, 0, 2, 2, 0, 2, 2],\n",
       " [2, 1, 1, 0, 2, 2, 0, 2, 2],\n",
       " [2, 1, 1, 0, 2, 2, 0, 2, 2],\n",
       " [2, 1, 1, 0, 2, 2, 0, 2, 2],\n",
       " [2, 1, 1, 0, 2, 2, 0, 2, 2],\n",
       " [2, 1, 1, 0, 2, 2, 0, 2, 2],\n",
       " [2, 1, 1, 0, 2, 2, 0, 2, 2],\n",
       " [2, 1, 1, 0, 2, 2, 0, 2, 2],\n",
       " [2, 1, 1, 0, 2, 2, 0, 2, 2],\n",
       " [2, 1, 1, 0, 2, 2, 0, 2, 2],\n",
       " [2, 1, 1, 0, 2, 2, 0, 2, 2],\n",
       " [2, 1, 1, 0, 2, 2, 0, 2, 2],\n",
       " [2, 1, 1, 0, 2, 2, 0, 2, 2],\n",
       " [2, 1, 1, 0, 2, 2, 0, 2, 2],\n",
       " [2, 1, 1, 0, 2, 2, 0, 2, 2],\n",
       " [2, 1, 1, 0, 2, 2, 0, 2, 2],\n",
       " [2, 1, 1, 0, 2, 2, 0, 2, 2],\n",
       " [2, 1, 1, 0, 2, 2, 0, 2, 2],\n",
       " [2, 1, 1, 0, 2, 2, 0, 2, 2],\n",
       " [2, 2, 1, 0, 2, 2, 0, 2, 2],\n",
       " [2, 1, 1, 0, 2, 2, 0, 2, 2],\n",
       " [2, 1, 1, 0, 2, 2, 0, 2, 2],\n",
       " [2, 1, 1, 0, 2, 2, 0, 2, 2],\n",
       " [2, 1, 1, 0, 2, 2, 0, 2, 2],\n",
       " [2, 1, 1, 0, 2, 2, 0, 2, 2],\n",
       " [2, 1, 1, 0, 2, 2, 0, 2, 2],\n",
       " [2, 1, 1, 0, 2, 2, 0, 2, 2],\n",
       " [2, 1, 1, 0, 2, 2, 0, 2, 2],\n",
       " [2, 1, 1, 0, 2, 2, 0, 2, 2],\n",
       " [2, 1, 1, 0, 2, 2, 0, 2, 2],\n",
       " [2, 1, 1, 0, 2, 2, 0, 2, 2],\n",
       " [2, 1, 1, 0, 2, 2, 0, 2, 2],\n",
       " [2, 1, 1, 0, 2, 2, 0, 2, 2],\n",
       " [2, 1, 1, 0, 2, 2, 0, 2, 2],\n",
       " [2, 1, 1, 0, 2, 2, 0, 2, 2],\n",
       " [2, 2, 1, 0, 2, 2, 0, 2, 2],\n",
       " [2, 1, 1, 0, 2, 2, 0, 2, 2],\n",
       " [2, 1, 1, 0, 2, 2, 0, 2, 2],\n",
       " [2, 1, 1, 0, 2, 2, 0, 2, 2],\n",
       " [2, 1, 1, 0, 2, 2, 0, 2, 2],\n",
       " [2, 1, 1, 0, 2, 2, 0, 2, 2],\n",
       " [2, 1, 1, 0, 2, 2, 0, 2, 2],\n",
       " [2, 1, 1, 0, 2, 2, 0, 2, 2],\n",
       " [2, 1, 1, 0, 2, 2, 0, 2, 2],\n",
       " [2, 2, 1, 0, 2, 2, 0, 2, 2],\n",
       " [2, 1, 1, 0, 2, 2, 0, 2, 2],\n",
       " [2, 1, 1, 0, 2, 2, 0, 2, 2],\n",
       " [2, 1, 1, 0, 2, 2, 0, 2, 2],\n",
       " [2, 1, 1, 0, 2, 2, 0, 2, 2],\n",
       " [2, 1, 1, 0, 2, 2, 0, 2, 2],\n",
       " [2, 1, 1, 0, 2, 2, 0, 2, 2],\n",
       " [2, 1, 1, 0, 2, 2, 0, 2, 2],\n",
       " [2, 1, 1, 0, 2, 2, 0, 2, 2],\n",
       " [2, 0, 1, 0, 2, 2, 0, 2, 2],\n",
       " [2, 1, 1, 0, 2, 2, 0, 2, 2],\n",
       " [2, 1, 1, 0, 2, 2, 0, 2, 2],\n",
       " [2, 1, 1, 0, 2, 2, 0, 2, 2],\n",
       " [2, 1, 1, 0, 2, 2, 0, 2, 2],\n",
       " [2, 1, 1, 0, 2, 2, 0, 2, 2],\n",
       " [2, 1, 1, 0, 2, 2, 0, 2, 2],\n",
       " [2, 1, 1, 0, 2, 2, 0, 2, 2],\n",
       " [2, 1, 1, 0, 2, 2, 0, 2, 2],\n",
       " [2, 1, 1, 0, 2, 2, 0, 2, 2],\n",
       " [2, 1, 1, 0, 2, 2, 0, 2, 2],\n",
       " [2, 1, 1, 0, 2, 2, 0, 2, 2],\n",
       " [2, 1, 1, 0, 2, 2, 0, 2, 2],\n",
       " [2, 1, 1, 0, 2, 2, 0, 2, 2],\n",
       " [2, 1, 1, 0, 2, 2, 0, 2, 2],\n",
       " [2, 1, 1, 0, 2, 2, 0, 2, 2],\n",
       " [2, 1, 1, 0, 2, 2, 0, 2, 2],\n",
       " [2, 1, 1, 0, 2, 2, 0, 2, 2],\n",
       " [2, 1, 1, 0, 2, 2, 0, 2, 2],\n",
       " [2, 1, 1, 0, 2, 2, 0, 2, 2],\n",
       " [2, 1, 1, 0, 2, 2, 0, 2, 2],\n",
       " [2, 1, 1, 0, 2, 2, 0, 2, 2],\n",
       " [2, 1, 1, 0, 2, 2, 0, 2, 2],\n",
       " [2, 0, 1, 0, 2, 2, 0, 2, 2],\n",
       " [2, 1, 1, 0, 2, 2, 0, 2, 2],\n",
       " [2, 1, 1, 0, 2, 2, 0, 2, 2],\n",
       " [2, 1, 1, 0, 2, 2, 0, 2, 2],\n",
       " [2, 2, 1, 0, 2, 2, 0, 2, 2],\n",
       " [2, 1, 1, 0, 2, 2, 0, 2, 2],\n",
       " [2, 1, 1, 0, 2, 2, 0, 2, 2],\n",
       " [2, 1, 1, 0, 2, 2, 0, 2, 2],\n",
       " [2, 1, 1, 0, 2, 2, 0, 2, 2],\n",
       " [2, 1, 1, 0, 2, 2, 0, 2, 2],\n",
       " [2, 2, 1, 0, 2, 2, 0, 2, 2],\n",
       " [2, 1, 1, 0, 2, 2, 0, 2, 2],\n",
       " [2, 1, 1, 0, 2, 2, 0, 2, 2],\n",
       " [2, 1, 1, 0, 2, 2, 0, 2, 2],\n",
       " [2, 1, 1, 0, 2, 2, 0, 2, 2],\n",
       " [2, 1, 1, 0, 2, 2, 0, 2, 2],\n",
       " [2, 0, 1, 0, 2, 2, 0, 2, 2],\n",
       " [2, 1, 1, 0, 2, 2, 0, 2, 2],\n",
       " [2, 1, 1, 0, 2, 2, 0, 2, 2],\n",
       " [2, 1, 1, 0, 2, 2, 0, 2, 2],\n",
       " [2, 1, 1, 0, 2, 2, 0, 2, 2],\n",
       " [2, 1, 1, 0, 2, 2, 0, 2, 2],\n",
       " [2, 1, 1, 0, 2, 2, 0, 2, 2],\n",
       " [2, 1, 1, 0, 2, 2, 0, 2, 2],\n",
       " [2, 1, 1, 0, 2, 2, 0, 2, 2],\n",
       " [2, 1, 1, 0, 2, 2, 0, 2, 2],\n",
       " [2, 1, 1, 0, 2, 2, 0, 2, 2],\n",
       " [2, 1, 1, 0, 2, 2, 0, 2, 2],\n",
       " [2, 1, 1, 0, 2, 2, 0, 2, 2],\n",
       " [2, 1, 1, 0, 2, 2, 0, 2, 2],\n",
       " [2, 1, 1, 0, 2, 2, 0, 2, 2],\n",
       " [2, 1, 1, 0, 2, 2, 0, 2, 2],\n",
       " [2, 1, 1, 0, 2, 2, 0, 2, 2],\n",
       " [2, 1, 1, 0, 2, 2, 0, 2, 2],\n",
       " [2, 1, 1, 0, 2, 2, 0, 2, 2],\n",
       " [2, 1, 1, 0, 2, 2, 0, 2, 2],\n",
       " [2, 1, 1, 0, 2, 2, 0, 2, 2],\n",
       " [2, 1, 1, 0, 2, 2, 0, 2, 2],\n",
       " [2, 1, 1, 0, 2, 2, 0, 2, 2],\n",
       " [2, 1, 1, 0, 2, 2, 0, 2, 2],\n",
       " [2, 2, 1, 0, 2, 2, 0, 2, 2],\n",
       " [2, 1, 1, 0, 2, 2, 0, 2, 2],\n",
       " [2, 1, 1, 0, 2, 2, 0, 2, 2],\n",
       " [2, 1, 1, 0, 2, 2, 0, 2, 2],\n",
       " [2, 1, 1, 0, 2, 2, 0, 2, 2],\n",
       " [2, 1, 1, 0, 2, 2, 0, 2, 2],\n",
       " [2, 1, 1, 0, 2, 2, 0, 2, 2],\n",
       " [2, 1, 1, 0, 2, 2, 0, 2, 2],\n",
       " [2, 1, 1, 0, 2, 2, 0, 2, 2],\n",
       " [2, 1, 1, 0, 2, 2, 0, 2, 2],\n",
       " [2, 1, 1, 0, 2, 2, 0, 2, 2],\n",
       " [2, 1, 1, 0, 2, 2, 0, 2, 2],\n",
       " [2, 0, 1, 0, 2, 2, 0, 2, 2],\n",
       " [2, 1, 1, 0, 2, 2, 0, 2, 2],\n",
       " [2, 1, 1, 0, 2, 2, 0, 2, 2],\n",
       " [2, 2, 1, 0, 2, 2, 0, 2, 2],\n",
       " [2, 1, 1, 0, 2, 2, 0, 2, 2],\n",
       " [2, 1, 1, 0, 2, 2, 0, 2, 2],\n",
       " [2, 1, 1, 0, 2, 2, 0, 2, 2],\n",
       " [2, 1, 1, 0, 2, 2, 0, 2, 2],\n",
       " [2, 1, 1, 0, 2, 2, 0, 2, 2],\n",
       " [2, 1, 1, 0, 2, 2, 0, 2, 2],\n",
       " [2, 1, 1, 0, 2, 2, 0, 2, 2],\n",
       " [2, 1, 1, 0, 2, 2, 0, 2, 2],\n",
       " [2, 1, 1, 0, 2, 2, 0, 2, 2],\n",
       " [2, 1, 1, 0, 2, 2, 0, 2, 2],\n",
       " [2, 1, 1, 0, 2, 2, 0, 2, 2],\n",
       " [2, 1, 1, 0, 2, 2, 0, 2, 2],\n",
       " [2, 1, 1, 0, 2, 2, 0, 2, 2],\n",
       " [2, 1, 1, 0, 2, 2, 0, 2, 2],\n",
       " [2, 1, 1, 0, 2, 2, 0, 2, 2],\n",
       " [2, 1, 1, 0, 2, 2, 0, 2, 2],\n",
       " [2, 1, 1, 0, 2, 2, 0, 2, 2],\n",
       " [2, 1, 1, 0, 2, 2, 0, 2, 2],\n",
       " [2, 1, 1, 0, 2, 2, 0, 2, 2],\n",
       " [2, 1, 1, 0, 2, 2, 0, 2, 2],\n",
       " [2, 1, 1, 0, 2, 2, 0, 2, 2],\n",
       " [2, 1, 1, 0, 2, 2, 0, 2, 2],\n",
       " [2, 1, 1, 0, 2, 2, 0, 2, 2],\n",
       " [2, 1, 1, 0, 2, 2, 0, 2, 2],\n",
       " [2, 1, 1, 0, 2, 2, 0, 2, 2],\n",
       " [2, 1, 1, 0, 2, 2, 0, 2, 2],\n",
       " [2, 2, 1, 0, 2, 2, 0, 2, 2],\n",
       " [2, 1, 1, 0, 2, 2, 0, 2, 2],\n",
       " [2, 1, 1, 0, 2, 2, 0, 2, 2],\n",
       " [2, 1, 1, 0, 2, 2, 0, 2, 2],\n",
       " [2, 1, 1, 0, 2, 2, 0, 2, 2],\n",
       " [2, 1, 1, 0, 2, 2, 0, 2, 2],\n",
       " [2, 0, 1, 0, 2, 2, 0, 2, 2],\n",
       " [2, 1, 1, 0, 2, 2, 0, 2, 2],\n",
       " [2, 1, 1, 0, 2, 2, 0, 2, 2],\n",
       " [2, 1, 1, 0, 2, 2, 0, 2, 2],\n",
       " [2, 1, 1, 0, 2, 2, 0, 2, 2],\n",
       " [2, 0, 1, 0, 2, 2, 0, 2, 2],\n",
       " [2, 1, 1, 0, 2, 2, 0, 2, 2],\n",
       " [2, 1, 1, 0, 2, 2, 0, 2, 2],\n",
       " [2, 1, 1, 0, 2, 2, 0, 2, 2],\n",
       " [2, 1, 1, 0, 2, 2, 0, 2, 2],\n",
       " [2, 1, 1, 0, 2, 2, 0, 2, 2],\n",
       " [2, 0, 1, 0, 2, 2, 0, 2, 2],\n",
       " [2, 1, 1, 0, 2, 2, 0, 2, 2],\n",
       " [2, 0, 1, 0, 2, 2, 0, 2, 2],\n",
       " [2, 0, 1, 0, 2, 2, 0, 2, 2],\n",
       " [2, 1, 1, 0, 2, 2, 0, 2, 2],\n",
       " [2, 1, 1, 0, 2, 2, 0, 2, 2],\n",
       " [2, 1, 1, 0, 2, 2, 0, 2, 2],\n",
       " [2, 1, 1, 0, 2, 2, 0, 2, 2],\n",
       " [2, 1, 1, 0, 2, 2, 0, 2, 2],\n",
       " [2, 1, 1, 0, 2, 2, 0, 2, 2],\n",
       " [2, 1, 1, 0, 2, 2, 0, 2, 2],\n",
       " [2, 1, 1, 0, 2, 2, 0, 2, 2],\n",
       " [2, 1, 1, 0, 2, 2, 0, 2, 2],\n",
       " [2, 1, 1, 0, 2, 2, 0, 2, 2],\n",
       " [2, 1, 1, 0, 2, 2, 0, 2, 2],\n",
       " [2, 1, 1, 0, 2, 2, 0, 2, 2],\n",
       " [2, 1, 1, 0, 2, 2, 0, 2, 2],\n",
       " [2, 1, 1, 0, 2, 2, 0, 2, 2],\n",
       " [2, 1, 1, 0, 2, 2, 0, 2, 2],\n",
       " [2, 1, 1, 0, 2, 2, 0, 2, 2],\n",
       " [2, 1, 1, 0, 2, 2, 0, 2, 2],\n",
       " [2, 1, 1, 0, 2, 2, 0, 2, 2],\n",
       " [2, 1, 1, 0, 2, 2, 0, 2, 2],\n",
       " [2, 1, 1, 0, 2, 2, 0, 2, 2],\n",
       " [2, 1, 1, 0, 2, 2, 0, 2, 2],\n",
       " [2, 1, 1, 0, 2, 2, 0, 2, 2],\n",
       " [2, 1, 1, 0, 2, 2, 0, 2, 2],\n",
       " [2, 1, 1, 0, 2, 2, 0, 2, 2],\n",
       " [2, 1, 1, 0, 2, 2, 0, 2, 2],\n",
       " [2, 1, 1, 0, 2, 2, 0, 2, 2],\n",
       " [2, 1, 1, 0, 2, 2, 0, 2, 2],\n",
       " [2, 1, 1, 0, 2, 2, 0, 2, 2],\n",
       " [2, 1, 1, 0, 2, 2, 0, 2, 2],\n",
       " [2, 1, 1, 0, 2, 2, 0, 2, 2],\n",
       " [2, 1, 1, 0, 2, 2, 0, 2, 2],\n",
       " [2, 1, 1, 0, 2, 2, 0, 2, 2],\n",
       " [2, 1, 1, 0, 2, 2, 0, 2, 2],\n",
       " [2, 1, 1, 0, 2, 2, 0, 2, 2],\n",
       " [2, 1, 1, 0, 2, 2, 0, 2, 2],\n",
       " [2, 1, 1, 0, 2, 2, 0, 2, 2],\n",
       " [2, 1, 1, 0, 2, 2, 0, 2, 2],\n",
       " [2, 1, 1, 0, 2, 2, 0, 2, 2],\n",
       " [2, 1, 1, 0, 2, 2, 0, 2, 2],\n",
       " [2, 1, 1, 0, 2, 2, 0, 2, 2],\n",
       " [2, 1, 1, 0, 2, 2, 0, 2, 2],\n",
       " [2, 1, 1, 0, 2, 2, 0, 2, 2],\n",
       " [2, 1, 1, 0, 2, 2, 0, 2, 2],\n",
       " [2, 1, 1, 0, 2, 2, 0, 2, 2],\n",
       " [2, 1, 1, 0, 2, 2, 0, 2, 2],\n",
       " [2, 1, 1, 0, 2, 2, 0, 2, 2],\n",
       " [2, 1, 1, 0, 2, 2, 0, 2, 2],\n",
       " [2, 1, 1, 0, 2, 2, 0, 2, 2],\n",
       " [2, 1, 1, 0, 2, 2, 0, 2, 2],\n",
       " [2, 1, 1, 0, 2, 2, 0, 2, 2],\n",
       " [2, 1, 1, 0, 2, 2, 0, 2, 2],\n",
       " [2, 1, 1, 0, 2, 2, 0, 2, 2],\n",
       " [2, 1, 1, 0, 2, 2, 0, 2, 2],\n",
       " [2, 1, 1, 0, 2, 2, 0, 2, 2],\n",
       " [2, 1, 1, 0, 2, 2, 0, 2, 2],\n",
       " [2, 1, 1, 0, 2, 2, 0, 2, 2],\n",
       " [2, 1, 1, 0, 2, 2, 0, 2, 2],\n",
       " [2, 1, 1, 0, 2, 2, 0, 2, 2],\n",
       " [2, 1, 1, 0, 2, 2, 0, 2, 2],\n",
       " [2, 0, 1, 0, 2, 2, 0, 2, 2],\n",
       " [2, 1, 1, 0, 2, 2, 0, 2, 2],\n",
       " [2, 1, 1, 0, 2, 2, 0, 2, 2],\n",
       " [2, 1, 1, 0, 2, 2, 0, 2, 2],\n",
       " [2, 1, 1, 0, 2, 2, 0, 2, 2],\n",
       " [2, 1, 1, 0, 2, 2, 0, 2, 2],\n",
       " [2, 2, 1, 0, 2, 2, 0, 2, 2],\n",
       " [2, 1, 1, 0, 2, 2, 0, 2, 2],\n",
       " [2, 1, 1, 0, 2, 2, 0, 2, 2],\n",
       " [2, 1, 1, 0, 2, 2, 0, 2, 2],\n",
       " [2, 1, 1, 0, 2, 2, 0, 2, 2],\n",
       " [2, 1, 1, 0, 2, 2, 0, 2, 2],\n",
       " [2, 1, 1, 0, 2, 2, 0, 2, 2],\n",
       " [2, 1, 1, 0, 2, 2, 0, 2, 2],\n",
       " [2, 1, 1, 0, 2, 2, 0, 2, 2],\n",
       " [2, 1, 1, 0, 2, 2, 0, 2, 2],\n",
       " [2, 1, 1, 0, 2, 2, 0, 2, 2],\n",
       " [2, 1, 1, 0, 2, 2, 0, 2, 2],\n",
       " [2, 1, 1, 0, 2, 2, 0, 2, 2],\n",
       " [2, 1, 1, 0, 2, 2, 0, 2, 2],\n",
       " [2, 1, 1, 0, 2, 2, 0, 2, 2],\n",
       " [2, 1, 1, 0, 2, 2, 0, 2, 2],\n",
       " [2, 1, 1, 0, 2, 2, 0, 2, 2],\n",
       " [2, 1, 1, 0, 2, 2, 0, 2, 2],\n",
       " [2, 1, 1, 0, 2, 2, 0, 2, 2],\n",
       " [2, 1, 1, 0, 2, 2, 0, 2, 2],\n",
       " [2, 1, 1, 0, 2, 2, 0, 2, 2],\n",
       " [2, 1, 1, 0, 2, 2, 0, 2, 2],\n",
       " [2, 1, 1, 0, 2, 2, 0, 2, 2],\n",
       " [2, 1, 1, 0, 2, 2, 0, 2, 2],\n",
       " [2, 1, 1, 0, 2, 2, 0, 2, 2],\n",
       " [2, 1, 1, 0, 2, 2, 0, 2, 2],\n",
       " [2, 1, 1, 0, 2, 2, 0, 2, 2],\n",
       " [2, 1, 1, 0, 2, 2, 0, 2, 2],\n",
       " [2, 1, 1, 0, 2, 2, 0, 2, 2],\n",
       " [2, 1, 1, 0, 2, 2, 0, 2, 2],\n",
       " [2, 1, 1, 0, 2, 2, 0, 2, 2],\n",
       " [2, 1, 1, 0, 2, 2, 0, 2, 2],\n",
       " [2, 1, 1, 0, 2, 2, 0, 2, 2],\n",
       " [2, 1, 1, 0, 2, 2, 0, 2, 2],\n",
       " [2, 1, 1, 0, 2, 2, 0, 2, 2],\n",
       " [2, 1, 1, 0, 2, 2, 0, 2, 2],\n",
       " [2, 1, 1, 0, 2, 2, 0, 2, 2],\n",
       " [2, 1, 1, 0, 2, 2, 0, 2, 2],\n",
       " [2, 1, 1, 0, 2, 2, 0, 2, 2],\n",
       " [2, 1, 1, 0, 2, 2, 0, 2, 2],\n",
       " [2, 1, 1, 0, 2, 2, 0, 2, 2],\n",
       " [2, 1, 1, 0, 2, 2, 0, 2, 2],\n",
       " [2, 1, 1, 0, 2, 2, 0, 2, 2],\n",
       " [2, 1, 1, 0, 2, 2, 0, 2, 2],\n",
       " [2, 1, 1, 0, 2, 2, 0, 2, 2],\n",
       " [2, 2, 1, 0, 2, 2, 0, 2, 2],\n",
       " [2, 1, 1, 0, 2, 2, 0, 2, 2],\n",
       " [2, 1, 1, 0, 2, 2, 0, 2, 2],\n",
       " [2, 1, 1, 0, 2, 2, 0, 2, 2],\n",
       " [2, 1, 1, 0, 2, 2, 0, 2, 2],\n",
       " [2, 1, 1, 0, 2, 2, 0, 2, 2],\n",
       " [2, 1, 1, 0, 2, 2, 0, 2, 2],\n",
       " [2, 1, 1, 0, 2, 2, 0, 2, 2],\n",
       " [2, 1, 1, 0, 2, 2, 0, 2, 2],\n",
       " [2, 1, 1, 0, 2, 2, 0, 2, 2],\n",
       " [2, 1, 1, 0, 2, 2, 0, 2, 2],\n",
       " [2, 1, 1, 0, 2, 2, 0, 2, 2],\n",
       " [2, 1, 1, 0, 2, 2, 0, 2, 2],\n",
       " [2, 1, 1, 0, 2, 2, 0, 2, 2],\n",
       " [2, 1, 1, 0, 2, 2, 0, 2, 2],\n",
       " [2, 1, 1, 0, 2, 2, 0, 2, 2],\n",
       " [2, 1, 1, 0, 2, 2, 0, 2, 2],\n",
       " [2, 1, 1, 0, 2, 2, 0, 2, 2],\n",
       " [2, 1, 1, 0, 2, 2, 0, 2, 2],\n",
       " [2, 1, 1, 0, 2, 2, 0, 2, 2],\n",
       " [2, 1, 1, 0, 2, 2, 0, 2, 2],\n",
       " [2, 1, 1, 0, 2, 2, 0, 2, 2],\n",
       " [2, 1, 1, 0, 2, 2, 0, 2, 2],\n",
       " [2, 1, 1, 0, 2, 2, 0, 2, 2],\n",
       " [2, 1, 1, 0, 2, 2, 0, 2, 2],\n",
       " [2, 1, 1, 0, 2, 2, 0, 2, 2],\n",
       " [2, 1, 1, 0, 2, 2, 0, 2, 2],\n",
       " [2, 1, 1, 0, 2, 2, 0, 2, 2],\n",
       " [2, 1, 1, 0, 2, 2, 0, 2, 2],\n",
       " [2, 1, 1, 0, 2, 2, 0, 2, 2],\n",
       " [2, 1, 1, 0, 2, 2, 0, 2, 2],\n",
       " [2, 1, 1, 0, 2, 2, 0, 2, 2],\n",
       " [2, 1, 1, 0, 2, 2, 0, 2, 2],\n",
       " [2, 1, 1, 0, 2, 2, 0, 2, 2],\n",
       " [2, 1, 1, 0, 2, 2, 0, 2, 2],\n",
       " [2, 1, 1, 0, 2, 2, 0, 2, 2],\n",
       " [2, 1, 1, 0, 2, 2, 0, 2, 2],\n",
       " [2, 1, 1, 0, 2, 2, 0, 2, 2],\n",
       " [2, 1, 1, 0, 2, 2, 0, 2, 2],\n",
       " [2, 1, 1, 0, 2, 2, 0, 2, 2],\n",
       " [2, 1, 1, 0, 2, 2, 0, 2, 2],\n",
       " [2, 1, 1, 0, 2, 2, 0, 2, 2],\n",
       " [2, 0, 1, 0, 2, 2, 0, 2, 2],\n",
       " [2, 1, 1, 0, 2, 2, 0, 2, 2],\n",
       " [2, 0, 1, 0, 2, 2, 0, 2, 2],\n",
       " [2, 1, 1, 0, 2, 2, 0, 2, 2],\n",
       " [2, 1, 1, 0, 2, 2, 0, 2, 2],\n",
       " [2, 1, 1, 0, 2, 2, 0, 2, 2],\n",
       " [2, 1, 1, 0, 2, 2, 0, 2, 2],\n",
       " [2, 0, 1, 0, 2, 2, 0, 2, 2],\n",
       " [2, 1, 1, 0, 2, 2, 0, 2, 2],\n",
       " [2, 1, 1, 0, 2, 2, 0, 2, 2],\n",
       " [2, 1, 1, 0, 2, 2, 0, 2, 2],\n",
       " [2, 1, 1, 0, 2, 2, 0, 2, 2],\n",
       " [2, 1, 1, 0, 2, 2, 0, 2, 2],\n",
       " [2, 1, 1, 0, 2, 2, 0, 2, 2],\n",
       " [2, 1, 1, 0, 2, 2, 0, 2, 2],\n",
       " [2, 1, 1, 0, 2, 2, 0, 2, 2],\n",
       " [2, 1, 1, 0, 2, 2, 0, 2, 2],\n",
       " [2, 1, 1, 0, 2, 2, 0, 2, 2],\n",
       " [2, 1, 1, 0, 2, 2, 0, 2, 2],\n",
       " [2, 1, 1, 0, 2, 2, 0, 2, 2],\n",
       " [2, 1, 1, 0, 2, 2, 0, 2, 2],\n",
       " [2, 1, 1, 0, 2, 2, 0, 2, 2],\n",
       " [2, 1, 1, 0, 2, 2, 0, 2, 2],\n",
       " [2, 2, 1, 0, 2, 2, 0, 2, 2],\n",
       " [2, 1, 1, 0, 2, 2, 0, 2, 2],\n",
       " [2, 1, 1, 0, 2, 2, 0, 2, 2],\n",
       " [2, 1, 1, 0, 2, 2, 0, 2, 2],\n",
       " [2, 1, 1, 0, 2, 2, 0, 2, 2],\n",
       " [2, 1, 1, 0, 2, 2, 0, 2, 2],\n",
       " [2, 1, 1, 0, 2, 2, 0, 2, 2],\n",
       " [2, 1, 1, 0, 2, 2, 0, 2, 2],\n",
       " [2, 1, 1, 0, 2, 2, 0, 2, 2],\n",
       " [2, 1, 1, 0, 2, 2, 0, 2, 2],\n",
       " [2, 1, 1, 0, 2, 2, 0, 2, 2],\n",
       " [2, 1, 1, 0, 2, 2, 0, 2, 2],\n",
       " [2, 1, 1, 0, 2, 2, 0, 2, 2],\n",
       " [2, 1, 1, 0, 2, 2, 0, 2, 2],\n",
       " [2, 0, 1, 0, 2, 2, 0, 2, 2],\n",
       " [2, 0, 1, 0, 2, 2, 0, 2, 2],\n",
       " [2, 1, 1, 0, 2, 2, 0, 2, 2],\n",
       " [2, 1, 1, 0, 2, 2, 0, 2, 2],\n",
       " [2, 1, 1, 0, 2, 2, 0, 2, 2],\n",
       " [2, 1, 1, 0, 2, 2, 0, 2, 2],\n",
       " [2, 1, 1, 0, 2, 2, 0, 2, 2],\n",
       " [2, 1, 1, 0, 2, 2, 0, 2, 2],\n",
       " [2, 1, 1, 0, 2, 2, 0, 2, 2],\n",
       " [2, 1, 1, 0, 2, 2, 0, 2, 2],\n",
       " [2, 1, 1, 0, 2, 2, 0, 2, 2],\n",
       " [2, 1, 1, 0, 2, 2, 0, 2, 2],\n",
       " [2, 1, 1, 0, 2, 2, 0, 2, 2],\n",
       " [2, 1, 1, 0, 2, 2, 0, 2, 2],\n",
       " [2, 1, 1, 0, 2, 2, 0, 2, 2],\n",
       " [2, 1, 1, 0, 2, 2, 0, 2, 2],\n",
       " [2, 1, 1, 0, 2, 2, 0, 2, 2],\n",
       " [2, 1, 1, 0, 2, 2, 0, 2, 2],\n",
       " [2, 1, 1, 0, 2, 2, 0, 2, 2],\n",
       " [2, 1, 1, 0, 2, 2, 0, 2, 2],\n",
       " [2, 2, 1, 0, 2, 2, 0, 2, 2],\n",
       " [2, 1, 1, 0, 2, 2, 0, 2, 2],\n",
       " [2, 1, 1, 0, 2, 2, 0, 2, 2],\n",
       " [2, 1, 1, 0, 2, 2, 0, 2, 2],\n",
       " [2, 1, 1, 0, 2, 2, 0, 2, 2],\n",
       " [2, 1, 1, 0, 2, 2, 0, 2, 2],\n",
       " [2, 2, 1, 0, 2, 2, 0, 2, 2],\n",
       " [2, 1, 1, 0, 2, 2, 0, 2, 2],\n",
       " [2, 1, 1, 0, 2, 2, 0, 2, 2],\n",
       " [2, 1, 1, 0, 2, 2, 0, 2, 2],\n",
       " [2, 1, 1, 0, 2, 2, 0, 2, 2],\n",
       " [2, 1, 1, 0, 2, 2, 0, 2, 2],\n",
       " [2, 1, 1, 0, 2, 2, 0, 2, 2],\n",
       " [2, 1, 1, 0, 2, 2, 0, 2, 2],\n",
       " [2, 1, 1, 0, 2, 2, 0, 2, 2],\n",
       " [2, 1, 1, 0, 2, 2, 0, 2, 2],\n",
       " [2, 1, 1, 0, 2, 2, 0, 2, 2],\n",
       " [2, 1, 1, 0, 2, 2, 0, 2, 2],\n",
       " [2, 1, 1, 0, 2, 2, 0, 2, 2],\n",
       " [2, 1, 1, 0, 2, 2, 0, 2, 2],\n",
       " [2, 1, 1, 0, 2, 2, 0, 2, 2],\n",
       " [2, 0, 1, 0, 2, 2, 0, 2, 2],\n",
       " [2, 1, 1, 0, 2, 2, 0, 2, 2],\n",
       " [2, 1, 1, 0, 2, 2, 0, 2, 2],\n",
       " [2, 1, 1, 0, 2, 2, 0, 2, 2],\n",
       " [2, 1, 1, 0, 2, 2, 0, 2, 2],\n",
       " [2, 1, 1, 0, 2, 2, 0, 2, 2],\n",
       " [2, 1, 1, 0, 2, 2, 0, 2, 2],\n",
       " [2, 1, 1, 0, 2, 2, 0, 2, 2],\n",
       " [2, 1, 1, 0, 2, 2, 0, 2, 2],\n",
       " [2, 1, 1, 0, 2, 2, 0, 2, 2],\n",
       " [2, 1, 1, 0, 2, 2, 0, 2, 2],\n",
       " [2, 1, 1, 0, 2, 2, 0, 2, 2],\n",
       " [2, 1, 1, 0, 2, 2, 0, 2, 2],\n",
       " [2, 1, 1, 0, 2, 2, 0, 2, 2],\n",
       " [2, 1, 1, 0, 2, 2, 0, 2, 2],\n",
       " [2, 1, 1, 0, 2, 2, 0, 2, 2],\n",
       " [2, 1, 1, 0, 2, 2, 0, 2, 2],\n",
       " [2, 1, 1, 0, 2, 2, 0, 2, 2],\n",
       " [2, 1, 1, 0, 2, 2, 0, 2, 2],\n",
       " [2, 1, 1, 0, 2, 2, 0, 2, 2],\n",
       " [2, 1, 1, 0, 2, 2, 0, 2, 2],\n",
       " [2, 0, 1, 0, 2, 2, 0, 2, 2],\n",
       " [2, 1, 1, 0, 2, 2, 0, 2, 2],\n",
       " [2, 1, 1, 0, 2, 2, 0, 2, 2],\n",
       " [2, 1, 1, 0, 2, 2, 0, 2, 2],\n",
       " [2, 1, 1, 0, 2, 2, 0, 2, 2],\n",
       " [2, 1, 1, 0, 2, 2, 0, 2, 2],\n",
       " [2, 1, 1, 0, 2, 2, 0, 2, 2],\n",
       " [2, 1, 1, 0, 2, 2, 0, 2, 2],\n",
       " [2, 1, 1, 0, 2, 2, 0, 2, 2],\n",
       " [2, 1, 1, 0, 2, 2, 0, 2, 2],\n",
       " [2, 1, 1, 0, 2, 2, 0, 2, 2],\n",
       " [2, 1, 1, 0, 2, 2, 0, 2, 2],\n",
       " [2, 1, 1, 0, 2, 2, 0, 2, 2],\n",
       " [2, 1, 1, 0, 2, 2, 0, 2, 2],\n",
       " [2, 1, 1, 0, 2, 2, 0, 2, 2],\n",
       " [2, 1, 1, 0, 2, 2, 0, 2, 2],\n",
       " [2, 1, 1, 0, 2, 2, 0, 2, 2],\n",
       " [2, 1, 1, 0, 2, 2, 0, 2, 2],\n",
       " [2, 1, 1, 0, 2, 2, 0, 2, 2],\n",
       " [2, 1, 1, 0, 2, 2, 0, 2, 2],\n",
       " [2, 1, 1, 0, 2, 2, 0, 2, 2],\n",
       " [2, 1, 1, 0, 2, 2, 0, 2, 2],\n",
       " [2, 1, 1, 0, 2, 2, 0, 2, 2],\n",
       " [2, 1, 1, 0, 2, 2, 0, 2, 2],\n",
       " [2, 1, 1, 0, 2, 2, 0, 2, 2],\n",
       " [2, 1, 1, 0, 2, 2, 0, 2, 2],\n",
       " [2, 1, 1, 0, 2, 2, 0, 2, 2],\n",
       " [2, 1, 1, 0, 2, 2, 0, 2, 2],\n",
       " [2, 1, 1, 0, 2, 2, 0, 2, 2],\n",
       " [2, 1, 1, 0, 2, 2, 0, 2, 2],\n",
       " [2, 1, 1, 0, 2, 2, 0, 2, 2],\n",
       " [2, 1, 1, 0, 2, 2, 0, 2, 2],\n",
       " [2, 1, 1, 0, 2, 2, 0, 2, 2],\n",
       " [2, 1, 1, 0, 2, 2, 0, 2, 2],\n",
       " [2, 0, 1, 0, 2, 2, 0, 2, 2],\n",
       " [2, 1, 1, 0, 2, 2, 0, 2, 2],\n",
       " [2, 1, 1, 0, 2, 2, 0, 2, 2],\n",
       " [2, 1, 1, 0, 2, 2, 0, 2, 2],\n",
       " [2, 1, 1, 0, 2, 2, 0, 2, 2],\n",
       " [2, 1, 1, 0, 2, 2, 0, 2, 2],\n",
       " [2, 1, 1, 0, 2, 2, 0, 2, 2],\n",
       " [2, 1, 1, 0, 2, 2, 0, 2, 2],\n",
       " [2, 1, 1, 0, 2, 2, 0, 2, 2],\n",
       " [2, 1, 1, 0, 2, 2, 0, 2, 2],\n",
       " [2, 1, 1, 0, 2, 2, 0, 2, 2],\n",
       " [2, 1, 1, 0, 2, 2, 0, 2, 2],\n",
       " [2, 1, 1, 0, 2, 2, 0, 2, 2],\n",
       " [2, 1, 1, 0, 2, 2, 0, 2, 2],\n",
       " [2, 1, 1, 0, 2, 2, 0, 2, 2],\n",
       " [2, 1, 1, 0, 2, 2, 0, 2, 2],\n",
       " [2, 1, 1, 0, 2, 2, 0, 2, 2],\n",
       " [2, 1, 1, 0, 2, 2, 0, 2, 2],\n",
       " [2, 1, 1, 0, 2, 2, 0, 2, 2],\n",
       " [2, 1, 1, 0, 2, 2, 0, 2, 2],\n",
       " [2, 1, 1, 0, 2, 2, 0, 2, 2],\n",
       " [2, 1, 1, 0, 2, 2, 0, 2, 2],\n",
       " [2, 1, 1, 0, 2, 2, 0, 2, 2],\n",
       " [2, 1, 1, 0, 2, 2, 0, 2, 2],\n",
       " [2, 1, 1, 0, 2, 2, 0, 2, 2],\n",
       " [2, 1, 1, 0, 2, 2, 0, 2, 2],\n",
       " [2, 1, 1, 0, 2, 2, 0, 2, 2],\n",
       " [2, 0, 1, 0, 2, 2, 0, 2, 2],\n",
       " [2, 1, 1, 0, 2, 2, 0, 2, 2],\n",
       " [2, 1, 1, 0, 2, 2, 0, 2, 2],\n",
       " [2, 1, 1, 0, 2, 2, 0, 2, 2],\n",
       " [2, 1, 1, 0, 2, 2, 0, 2, 2],\n",
       " [2, 1, 1, 0, 2, 2, 0, 2, 2],\n",
       " [2, 1, 1, 0, 2, 2, 0, 2, 2],\n",
       " [2, 1, 1, 0, 2, 2, 0, 2, 2],\n",
       " [2, 1, 1, 0, 2, 2, 0, 2, 2],\n",
       " [2, 1, 1, 0, 2, 2, 0, 2, 2],\n",
       " [2, 1, 1, 0, 2, 2, 0, 2, 2],\n",
       " [2, 1, 1, 0, 2, 2, 0, 2, 2],\n",
       " [2, 1, 1, 0, 2, 2, 0, 2, 2],\n",
       " [2, 1, 1, 0, 2, 2, 0, 2, 2],\n",
       " [2, 1, 1, 0, 2, 2, 0, 2, 2],\n",
       " [2, 1, 1, 0, 2, 2, 0, 2, 2],\n",
       " [2, 1, 1, 0, 2, 2, 0, 2, 2],\n",
       " [2, 1, 1, 0, 2, 2, 0, 2, 2],\n",
       " [2, 1, 1, 0, 2, 2, 0, 2, 2],\n",
       " [2, 1, 1, 0, 2, 2, 0, 2, 2],\n",
       " [2, 1, 1, 0, 2, 2, 0, 2, 2],\n",
       " [2, 2, 1, 0, 2, 2, 0, 2, 2],\n",
       " [2, 1, 1, 0, 2, 2, 0, 2, 2],\n",
       " [2, 1, 1, 0, 2, 2, 0, 2, 2],\n",
       " [2, 2, 1, 0, 2, 2, 0, 2, 2],\n",
       " [2, 1, 1, 0, 2, 2, 0, 2, 2],\n",
       " [2, 1, 1, 0, 2, 2, 0, 2, 2],\n",
       " [2, 1, 1, 0, 2, 2, 0, 2, 2],\n",
       " [2, 1, 1, 0, 2, 2, 0, 2, 2],\n",
       " [2, 1, 1, 0, 2, 2, 0, 2, 2],\n",
       " [2, 1, 1, 0, 2, 2, 0, 2, 2],\n",
       " [2, 1, 1, 0, 2, 2, 0, 2, 2],\n",
       " [2, 1, 1, 0, 2, 2, 0, 2, 2],\n",
       " [2, 1, 1, 0, 2, 2, 0, 2, 2],\n",
       " [2, 1, 1, 0, 2, 2, 0, 2, 2],\n",
       " [2, 1, 1, 0, 2, 2, 0, 2, 2],\n",
       " [2, 1, 1, 0, 2, 2, 0, 2, 2],\n",
       " [2, 1, 1, 0, 2, 2, 0, 2, 2],\n",
       " [2, 1, 1, 0, 2, 2, 0, 2, 2],\n",
       " [2, 1, 1, 0, 2, 2, 0, 2, 2],\n",
       " [2, 1, 1, 0, 2, 2, 0, 2, 2],\n",
       " [2, 1, 1, 0, 2, 2, 0, 2, 2],\n",
       " [2, 1, 1, 0, 2, 2, 0, 2, 2],\n",
       " [2, 1, 1, 0, 2, 2, 0, 2, 2],\n",
       " [2, 1, 1, 0, 2, 2, 0, 2, 2],\n",
       " [2, 1, 1, 0, 2, 2, 0, 2, 2],\n",
       " [2, 1, 1, 0, 2, 2, 0, 2, 2],\n",
       " [2, 1, 1, 0, 2, 2, 0, 2, 2],\n",
       " [2, 2, 1, 0, 2, 2, 0, 2, 2],\n",
       " [2, 1, 1, 0, 2, 2, 0, 2, 2],\n",
       " [2, 0, 1, 0, 2, 2, 0, 2, 2],\n",
       " [2, 1, 1, 0, 2, 2, 0, 2, 2],\n",
       " [2, 2, 1, 0, 2, 2, 0, 2, 2],\n",
       " [2, 1, 1, 0, 2, 2, 0, 2, 2],\n",
       " [2, 1, 1, 0, 2, 2, 0, 2, 2],\n",
       " [2, 1, 1, 0, 2, 2, 0, 2, 2],\n",
       " [2, 1, 1, 0, 2, 2, 0, 2, 2],\n",
       " [2, 1, 1, 0, 2, 2, 0, 2, 2],\n",
       " [2, 1, 1, 0, 2, 2, 0, 2, 2],\n",
       " [2, 1, 1, 0, 2, 2, 0, 2, 2],\n",
       " [2, 1, 1, 0, 2, 2, 0, 2, 2],\n",
       " [2, 1, 1, 0, 2, 2, 0, 2, 2],\n",
       " [2, 1, 1, 0, 2, 2, 0, 2, 2],\n",
       " [2, 1, 1, 0, 2, 2, 0, 2, 2],\n",
       " [2, 1, 1, 0, 2, 2, 0, 2, 2],\n",
       " [2, 1, 1, 0, 2, 2, 0, 2, 2],\n",
       " [2, 1, 1, 0, 2, 2, 0, 2, 2],\n",
       " [2, 1, 1, 0, 2, 2, 0, 2, 2],\n",
       " [2, 1, 1, 0, 2, 2, 0, 2, 2],\n",
       " [2, 1, 1, 0, 2, 2, 0, 2, 2],\n",
       " [2, 1, 1, 0, 2, 2, 0, 2, 2],\n",
       " [2, 1, 1, 0, 2, 2, 0, 2, 2],\n",
       " [2, 1, 1, 0, 2, 2, 0, 2, 2],\n",
       " [2, 1, 1, 0, 2, 2, 0, 2, 2],\n",
       " [2, 1, 1, 0, 2, 2, 0, 2, 2],\n",
       " [2, 1, 1, 0, 2, 2, 0, 2, 2],\n",
       " [2, 1, 1, 0, 2, 2, 0, 2, 2],\n",
       " [2, 1, 1, 0, 2, 2, 0, 2, 2],\n",
       " [2, 1, 1, 0, 2, 2, 0, 2, 2],\n",
       " [2, 1, 1, 0, 2, 2, 0, 2, 2],\n",
       " [2, 2, 1, 0, 2, 2, 0, 2, 2],\n",
       " [2, 1, 1, 0, 2, 2, 0, 2, 2],\n",
       " [2, 1, 1, 0, 2, 2, 0, 2, 2],\n",
       " [2, 1, 1, 0, 2, 2, 0, 2, 2],\n",
       " [2, 1, 1, 0, 2, 2, 0, 2, 2],\n",
       " [2, 0, 1, 0, 2, 2, 0, 2, 2],\n",
       " [2, 1, 1, 0, 2, 2, 0, 2, 2],\n",
       " [2, 1, 1, 0, 2, 2, 0, 2, 2],\n",
       " [2, 1, 1, 0, 2, 2, 0, 2, 2],\n",
       " [2, 1, 1, 0, 2, 2, 0, 2, 2],\n",
       " [2, 1, 1, 0, 2, 2, 0, 2, 2],\n",
       " [2, 1, 1, 0, 2, 2, 0, 2, 2],\n",
       " [2, 1, 1, 0, 2, 2, 0, 2, 2],\n",
       " [2, 1, 1, 0, 2, 2, 0, 2, 2],\n",
       " [2, 1, 1, 0, 2, 2, 0, 2, 2],\n",
       " [2, 1, 1, 0, 2, 2, 0, 2, 2],\n",
       " [2, 1, 1, 0, 2, 2, 0, 2, 2],\n",
       " [2, 2, 1, 0, 2, 2, 0, 2, 2],\n",
       " [2, 1, 1, 0, 2, 2, 0, 2, 2],\n",
       " [2, 1, 1, 0, 2, 2, 0, 2, 2],\n",
       " [2, 1, 1, 0, 2, 2, 0, 2, 2],\n",
       " [2, 1, 1, 0, 2, 2, 0, 2, 2],\n",
       " [2, 1, 1, 0, 2, 2, 0, 2, 2],\n",
       " [2, 1, 1, 0, 2, 2, 0, 2, 2],\n",
       " [2, 1, 1, 0, 2, 2, 0, 2, 2],\n",
       " [2, 1, 1, 0, 2, 2, 0, 2, 2],\n",
       " [2, 1, 1, 0, 2, 2, 0, 2, 2],\n",
       " [2, 1, 1, 0, 2, 2, 0, 2, 2],\n",
       " [2, 1, 1, 0, 2, 2, 0, 2, 2],\n",
       " [2, 1, 1, 0, 2, 2, 0, 2, 2],\n",
       " [2, 1, 1, 0, 2, 2, 0, 2, 2],\n",
       " [2, 1, 1, 0, 2, 2, 0, 2, 2],\n",
       " [2, 1, 1, 0, 2, 2, 0, 2, 2],\n",
       " [2, 1, 1, 0, 2, 2, 0, 2, 2],\n",
       " [2, 1, 1, 0, 2, 2, 0, 2, 2],\n",
       " [2, 1, 1, 0, 2, 2, 0, 2, 2],\n",
       " [2, 1, 1, 0, 2, 2, 0, 2, 2],\n",
       " [2, 1, 1, 0, 2, 2, 0, 2, 2],\n",
       " [2, 1, 1, 0, 2, 2, 0, 2, 2],\n",
       " [2, 1, 1, 0, 2, 2, 0, 2, 2],\n",
       " [2, 1, 1, 0, 2, 2, 0, 2, 2],\n",
       " [2, 1, 1, 0, 2, 2, 0, 2, 2],\n",
       " [2, 1, 1, 0, 2, 2, 0, 2, 2],\n",
       " [2, 1, 1, 0, 2, 2, 0, 2, 2],\n",
       " [2, 1, 1, 0, 2, 2, 0, 2, 2],\n",
       " [2, 1, 1, 0, 2, 2, 0, 2, 2],\n",
       " [2, 1, 1, 0, 2, 2, 0, 2, 2],\n",
       " [2, 1, 1, 0, 2, 2, 0, 2, 2],\n",
       " [2, 1, 1, 0, 2, 2, 0, 2, 2],\n",
       " [2, 1, 1, 0, 2, 2, 0, 2, 2],\n",
       " [2, 1, 1, 0, 2, 2, 0, 2, 2],\n",
       " [2, 1, 1, 0, 2, 2, 0, 2, 2],\n",
       " [2, 1, 1, 0, 2, 2, 0, 2, 2],\n",
       " [2, 1, 1, 0, 2, 2, 0, 2, 2],\n",
       " [2, 1, 1, 0, 2, 2, 0, 2, 2],\n",
       " [2, 1, 1, 0, 2, 2, 0, 2, 2],\n",
       " [2, 1, 1, 0, 2, 2, 0, 2, 2],\n",
       " [2, 1, 1, 0, 2, 2, 0, 2, 2],\n",
       " [2, 1, 1, 0, 2, 2, 0, 2, 2],\n",
       " [2, 1, 1, 0, 2, 2, 0, 2, 2],\n",
       " [2, 1, 1, 0, 2, 2, 0, 2, 2],\n",
       " [2, 1, 1, 0, 2, 2, 0, 2, 2],\n",
       " [2, 1, 1, 0, 2, 2, 0, 2, 2],\n",
       " [2, 1, 1, 0, 2, 2, 0, 2, 2],\n",
       " [2, 1, 1, 0, 2, 2, 0, 2, 2],\n",
       " [2, 1, 1, 0, 2, 2, 0, 2, 2],\n",
       " [2, 1, 1, 0, 2, 2, 0, 2, 2],\n",
       " [2, 1, 1, 0, 2, 2, 0, 2, 2],\n",
       " [2, 1, 1, 0, 2, 2, 0, 2, 2],\n",
       " [2, 1, 1, 0, 2, 2, 0, 2, 2],\n",
       " [2, 1, 1, 0, 2, 2, 0, 2, 2],\n",
       " [2, 1, 1, 0, 2, 2, 0, 2, 2],\n",
       " [2, 1, 1, 0, 2, 2, 0, 2, 2],\n",
       " [2, 1, 1, 0, 2, 2, 0, 2, 2],\n",
       " [2, 1, 1, 0, 2, 2, 0, 2, 2],\n",
       " [2, 1, 1, 0, 2, 2, 0, 2, 2],\n",
       " [2, 1, 1, 0, 2, 2, 0, 2, 2],\n",
       " [2, 2, 1, 0, 2, 2, 0, 2, 2],\n",
       " [2, 1, 1, 0, 2, 2, 0, 2, 2],\n",
       " [2, 1, 1, 0, 2, 2, 0, 2, 2],\n",
       " [2, 1, 1, 0, 2, 2, 0, 2, 2],\n",
       " [2, 1, 1, 0, 2, 2, 0, 2, 2],\n",
       " [2, 1, 1, 0, 2, 2, 0, 2, 2],\n",
       " [2, 1, 1, 0, 2, 2, 0, 2, 2],\n",
       " [2, 1, 1, 0, 2, 2, 0, 2, 2],\n",
       " [2, 1, 1, 0, 2, 2, 0, 2, 2],\n",
       " [2, 0, 1, 0, 2, 2, 0, 2, 2],\n",
       " [2, 1, 1, 0, 2, 2, 0, 2, 2],\n",
       " [2, 1, 1, 0, 2, 2, 0, 2, 2],\n",
       " [2, 1, 1, 0, 2, 2, 0, 2, 2],\n",
       " [2, 1, 1, 0, 2, 2, 0, 2, 2],\n",
       " [2, 2, 1, 0, 2, 2, 0, 2, 2],\n",
       " [2, 1, 1, 0, 2, 2, 0, 2, 2],\n",
       " [2, 1, 1, 0, 2, 2, 0, 2, 2],\n",
       " [2, 1, 1, 0, 2, 2, 0, 2, 2],\n",
       " [2, 0, 1, 0, 2, 2, 0, 2, 2],\n",
       " [2, 1, 1, 0, 2, 2, 0, 2, 2],\n",
       " [2, 1, 1, 0, 2, 2, 0, 2, 2],\n",
       " [2, 1, 1, 0, 2, 2, 0, 2, 2],\n",
       " [2, 1, 1, 0, 2, 2, 0, 2, 2],\n",
       " [2, 2, 1, 0, 2, 2, 0, 2, 2],\n",
       " [2, 0, 1, 0, 2, 2, 0, 2, 2],\n",
       " [2, 1, 1, 0, 2, 2, 0, 2, 2],\n",
       " [2, 1, 1, 0, 2, 2, 0, 2, 2],\n",
       " [2, 1, 1, 0, 2, 2, 0, 2, 2],\n",
       " [2, 1, 1, 0, 2, 2, 0, 2, 2],\n",
       " [2, 1, 1, 0, 2, 2, 0, 2, 2],\n",
       " [2, 1, 1, 0, 2, 2, 0, 2, 2],\n",
       " [2, 1, 1, 0, 2, 2, 0, 2, 2],\n",
       " [2, 1, 1, 0, 2, 2, 0, 2, 2],\n",
       " [2, 1, 1, 0, 2, 2, 0, 2, 2],\n",
       " [2, 1, 1, 0, 2, 2, 0, 2, 2],\n",
       " [2, 2, 1, 0, 2, 2, 0, 2, 2],\n",
       " [2, 1, 1, 0, 2, 2, 0, 2, 2],\n",
       " [2, 1, 1, 0, 2, 2, 0, 2, 2],\n",
       " [2, 1, 1, 0, 2, 2, 0, 2, 2],\n",
       " [2, 1, 1, 0, 2, 2, 0, 2, 2],\n",
       " [2, 1, 1, 0, 2, 2, 0, 2, 2],\n",
       " [2, 1, 1, 0, 2, 2, 0, 2, 2],\n",
       " [2, 1, 1, 0, 2, 2, 0, 2, 2],\n",
       " [2, 1, 1, 0, 2, 2, 0, 2, 2],\n",
       " [2, 0, 1, 0, 2, 2, 0, 2, 2],\n",
       " [2, 1, 1, 0, 2, 2, 0, 2, 2],\n",
       " [2, 1, 1, 0, 2, 2, 0, 2, 2],\n",
       " [2, 1, 1, 0, 2, 2, 0, 2, 2],\n",
       " [2, 1, 1, 0, 2, 2, 0, 2, 2],\n",
       " [2, 1, 1, 0, 2, 2, 0, 2, 2],\n",
       " [2, 1, 1, 0, 2, 2, 0, 2, 2],\n",
       " [2, 1, 1, 0, 2, 2, 0, 2, 2],\n",
       " [2, 1, 1, 0, 2, 2, 0, 2, 2],\n",
       " [2, 2, 1, 0, 2, 2, 0, 2, 2],\n",
       " [2, 1, 1, 0, 2, 2, 0, 2, 2],\n",
       " [2, 1, 1, 0, 2, 2, 0, 2, 2],\n",
       " [2, 1, 1, 0, 2, 2, 0, 2, 2],\n",
       " [2, 1, 1, 0, 2, 2, 0, 2, 2],\n",
       " [2, 0, 1, 0, 2, 2, 0, 2, 2],\n",
       " [2, 1, 1, 0, 2, 2, 0, 2, 2],\n",
       " [2, 1, 1, 0, 2, 2, 0, 2, 2],\n",
       " [2, 1, 1, 0, 2, 2, 0, 2, 2],\n",
       " [2, 1, 1, 0, 2, 2, 0, 2, 2],\n",
       " [2, 1, 1, 0, 2, 2, 0, 2, 2],\n",
       " [2, 1, 1, 0, 2, 2, 0, 2, 2],\n",
       " [2, 1, 1, 0, 2, 2, 0, 2, 2],\n",
       " [2, 1, 1, 0, 2, 2, 0, 2, 2],\n",
       " [2, 1, 1, 0, 2, 2, 0, 2, 2],\n",
       " [2, 1, 1, 0, 2, 2, 0, 2, 2],\n",
       " [2, 1, 1, 0, 2, 2, 0, 2, 2],\n",
       " [2, 1, 1, 0, 2, 2, 0, 2, 2],\n",
       " [2, 1, 1, 0, 2, 2, 0, 2, 2]]"
      ]
     },
     "execution_count": 38,
     "metadata": {},
     "output_type": "execute_result"
    }
   ],
   "source": []
  },
  {
   "cell_type": "code",
   "execution_count": 48,
   "metadata": {
    "scrolled": true
   },
   "outputs": [
    {
     "name": "stdout",
     "output_type": "stream",
     "text": [
      "Predicted values\n",
      "     0  1  2  3  4  5  6  7  8\n",
      "0    2  1  1  0  2  2  0  2  2\n",
      "1    2  1  1  0  2  2  0  2  2\n",
      "2    2  1  1  0  2  2  0  2  2\n",
      "3    2  1  1  0  2  2  0  2  2\n",
      "4    2  1  1  0  2  2  0  2  2\n",
      "5    2  1  1  0  2  2  0  2  2\n",
      "6    2  1  1  0  2  2  0  2  2\n",
      "7    2  1  1  0  2  2  0  2  2\n",
      "8    2  1  1  0  2  2  0  2  2\n",
      "9    2  1  1  0  2  2  0  2  2\n",
      "10   2  1  1  0  2  2  0  2  2\n",
      "11   2  1  1  0  2  2  0  2  2\n",
      "12   2  1  1  0  2  2  0  2  2\n",
      "13   2  1  1  0  2  2  0  2  2\n",
      "14   2  1  1  0  2  2  0  2  2\n",
      "15   2  1  1  0  2  2  0  2  2\n",
      "16   2  1  1  0  2  2  0  2  2\n",
      "17   2  1  1  0  2  2  0  2  2\n",
      "18   2  1  1  0  2  2  0  2  2\n",
      "19   2  1  1  0  2  2  0  2  2\n",
      "20   2  1  1  0  2  2  0  2  2\n",
      "21   2  1  1  0  2  2  0  2  2\n",
      "22   2  1  1  0  2  2  0  2  2\n",
      "23   2  1  1  0  2  2  0  2  2\n",
      "24   2  1  1  0  2  2  0  2  2\n",
      "25   2  1  1  0  2  2  0  2  2\n",
      "26   2  1  1  0  2  2  0  2  2\n",
      "27   2  1  1  0  2  2  0  2  2\n",
      "28   2  1  1  0  2  2  0  2  2\n",
      "29   2  1  1  0  2  2  0  2  2\n",
      "..  .. .. .. .. .. .. .. .. ..\n",
      "840  2  1  1  0  2  2  0  2  2\n",
      "841  2  1  1  0  2  2  0  2  2\n",
      "842  2  1  1  0  2  2  0  2  2\n",
      "843  2  1  1  0  2  2  0  2  2\n",
      "844  2  1  1  0  2  2  0  2  2\n",
      "845  2  1  1  0  2  2  0  2  2\n",
      "846  2  1  1  0  2  2  0  2  2\n",
      "847  2  1  1  0  2  2  0  2  2\n",
      "848  2  1  1  0  2  2  0  2  2\n",
      "849  2  1  1  0  2  2  0  2  2\n",
      "850  2  1  1  0  2  2  0  2  2\n",
      "851  2  1  1  0  2  2  0  2  2\n",
      "852  2  1  1  0  2  2  0  2  2\n",
      "853  2  1  1  0  2  2  0  2  2\n",
      "854  2  1  1  0  2  2  0  2  2\n",
      "855  2  1  1  0  2  2  0  2  2\n",
      "856  2  1  1  0  2  2  0  2  2\n",
      "857  2  1  1  0  2  2  0  2  2\n",
      "858  2  1  1  0  2  2  0  2  2\n",
      "859  2  1  1  0  2  2  0  2  2\n",
      "860  2  1  1  0  2  2  0  2  2\n",
      "861  2  1  1  0  2  2  0  2  2\n",
      "862  2  1  1  0  2  2  0  2  2\n",
      "863  2  1  1  0  2  2  0  2  2\n",
      "864  2  1  1  0  2  2  0  2  2\n",
      "865  2  1  1  0  2  2  0  2  2\n",
      "866  2  1  1  0  2  2  0  2  2\n",
      "867  2  1  1  0  2  2  0  2  2\n",
      "868  2  1  1  0  2  2  0  2  2\n",
      "869  2  1  1  0  2  2  0  2  2\n",
      "\n",
      "[870 rows x 9 columns]\n"
     ]
    }
   ],
   "source": [
    "#phi_query\n",
    "dict_list=[]\n",
    "from numpy import array\n",
    "import pandas as pd\n",
    "\n",
    "\n",
    "dict_list = array(dictlist)\n",
    "dict_list\n",
    "data_frame_final = pd.DataFrame(dict_list)\n",
    "print(\"Predicted values\")\n",
    "print(data_frame_final)\n",
    "test_data[['f10','f11','f12','f13','f14','f15','f16','f17','f18','similarity']]\n",
    "final_data = test_data.loc[test_data['similarity']==1]\n",
    "final_data = final_data [['f10','f11','f12','f13','f14','f15','f16','f17','f18']]\n",
    "original_final = final_data\n"
   ]
  },
  {
   "cell_type": "code",
   "execution_count": 40,
   "metadata": {},
   "outputs": [
    {
     "data": {
      "text/plain": [
       "((57, 9), (870, 9))"
      ]
     },
     "execution_count": 40,
     "metadata": {},
     "output_type": "execute_result"
    }
   ],
   "source": [
    "original_final.shape, data_frame_final.shape"
   ]
  },
  {
   "cell_type": "code",
   "execution_count": 47,
   "metadata": {},
   "outputs": [
    {
     "name": "stdout",
     "output_type": "stream",
     "text": [
      "[ True  True  True False  True  True False False  True]\n",
      "[ True False  True  True  True  True  True  True  True]\n",
      "[ True  True  True False  True False  True False  True]\n",
      "[False  True  True False  True  True False False  True]\n",
      "[False  True  True  True  True  True  True False  True]\n",
      "[ True False  True False  True  True  True  True  True]\n",
      "[False  True  True  True  True  True  True False  True]\n",
      "[False  True  True False  True  True  True False  True]\n",
      "[ True  True  True False  True  True False False  True]\n",
      "[ True  True  True  True  True False  True False  True]\n",
      "[False  True  True False  True  True False  True  True]\n",
      "[ True  True  True  True  True False  True  True  True]\n",
      "[False  True  True False  True  True False False  True]\n",
      "[ True False  True False  True  True  True False  True]\n",
      "[False  True  True False  True  True False  True  True]\n",
      "[False  True  True  True  True  True  True False  True]\n",
      "[ True  True  True False  True  True False False  True]\n",
      "[ True  True  True False  True False  True False  True]\n",
      "[False  True  True  True  True False  True False  True]\n",
      "[ True False  True  True  True  True  True False  True]\n",
      "[ True  True  True False  True False  True False  True]\n",
      "[ True  True  True  True  True False  True False  True]\n",
      "[ True False  True  True  True  True  True False  True]\n",
      "[False  True  True False  True  True  True False  True]\n",
      "[ True  True  True False  True  True False False  True]\n",
      "[ True  True  True  True  True False  True  True  True]\n",
      "[ True  True  True False  True False  True False  True]\n",
      "[False  True  True False  True  True  True False  True]\n",
      "[False  True  True False  True  True  True False  True]\n",
      "[False  True  True False  True  True  True False  True]\n",
      "[ True  True  True False  True False  True False  True]\n",
      "[False  True  True False  True  True  True False  True]\n",
      "[ True  True  True False  True  True False False  True]\n",
      "[ True  True  True False  True False  True  True  True]\n",
      "[False  True  True False  True  True False  True  True]\n",
      "[False  True  True False  True  True  True False  True]\n",
      "[False  True  True False  True  True  True False  True]\n",
      "[ True  True  True False  True  True False False  True]\n",
      "[False  True  True False  True False  True  True  True]\n",
      "[ True False  True False  True  True False False  True]\n",
      "[False  True  True False  True  True False False  True]\n",
      "[ True  True  True  True  True False  True False  True]\n",
      "[False  True  True False  True  True  True False  True]\n",
      "[ True  True  True  True  True False  True False  True]\n",
      "[ True False  True False  True  True  True  True  True]\n",
      "[False  True  True False  True  True False False  True]\n",
      "[False  True  True False  True False  True  True  True]\n",
      "[False False  True False  True  True  True False  True]\n",
      "[False  True  True False  True  True  True False  True]\n",
      "[False  True  True False  True  True  True False  True]\n",
      "[ True  True  True False  True  True False False  True]\n",
      "[False  True  True  True  True False  True False  True]\n",
      "[ True  True  True False  True False  True False  True]\n",
      "[ True  True  True False  True  True False False  True]\n",
      "[ True  True  True  True  True False  True False  True]\n",
      "[False  True  True False  True  True False False  True]\n",
      "[ True  True  True False  True  True False False  True]\n",
      "Accuracy is 100.0 %\n"
     ]
    }
   ],
   "source": [
    "##Accuracuy calculation based on Maximum Aposteriory Probability\n",
    "matched_rows = 0\n",
    "for i in range(0,original_final.shape[0]) :\n",
    "    #print(original_final.iloc[i]57.iloc[i])\n",
    "    TrueList = np.equal(np.array(original_final.iloc[[i]]) , np.array(data_frame_final.iloc[[i]]))\n",
    "    print(TrueList[0])\n",
    "    number_of_trues =0\n",
    "    for count in TrueList[0] :  \n",
    "            \n",
    "            if (count): \n",
    "                number_of_trues = number_of_trues + 1\n",
    "    if number_of_trues > 4 :\n",
    "                matched_rows = matched_rows + 1\n",
    "\n",
    "print(\"Accuracy is\" , matched_rows*100/original_final.shape[0], \"%\")"
   ]
  },
  {
   "cell_type": "code",
   "execution_count": null,
   "metadata": {
    "collapsed": true
   },
   "outputs": [],
   "source": []
  }
 ],
 "metadata": {
  "kernelspec": {
   "display_name": "Python 3",
   "language": "python",
   "name": "python3"
  },
  "language_info": {
   "codemirror_mode": {
    "name": "ipython",
    "version": 3
   },
   "file_extension": ".py",
   "mimetype": "text/x-python",
   "name": "python",
   "nbconvert_exporter": "python",
   "pygments_lexer": "ipython3",
   "version": "3.6.3"
  }
 },
 "nbformat": 4,
 "nbformat_minor": 2
}
